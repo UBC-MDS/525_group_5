{
 "cells": [
  {
   "cell_type": "markdown",
   "id": "ea5e7203-ff95-42ed-9024-7e8b60eef2d5",
   "metadata": {},
   "source": [
    "# Milestone 2"
   ]
  },
  {
   "cell_type": "markdown",
   "id": "c511da80-850d-4242-b784-beaf77368acf",
   "metadata": {},
   "source": [
    "In this milestone, we will be migrating our analysis to the **AWS cloud**. The process is as such:  \n",
    "\n",
    "(1) Set up collaborative environment via EC2 instance with JupyterHub, set up S3 bucket  \n",
    "(2) Migrate data from Milestone 1 to S3  \n",
    "(3) Wrangle data in preparation for Machine Learning"
   ]
  },
  {
   "cell_type": "markdown",
   "id": "18672baf-4021-47d2-a4ed-ba716f60c63e",
   "metadata": {},
   "source": [
    "## 1. Setup Collaborative Environment"
   ]
  },
  {
   "cell_type": "markdown",
   "id": "e1dd24b4-1d57-45bd-910e-477d90beabb1",
   "metadata": {},
   "source": [
    "### 1.1 Setup EC2 instance"
   ]
  },
  {
   "cell_type": "code",
   "execution_count": 1,
   "id": "14eb8f19-164d-4e3b-b922-18d82ef1faf8",
   "metadata": {},
   "outputs": [],
   "source": [
    "# ![]('img/...')"
   ]
  },
  {
   "cell_type": "markdown",
   "id": "40bb7326-a1ae-4787-95dd-0a0555042d68",
   "metadata": {},
   "source": [
    "### 1.2. Setup JupyterHub"
   ]
  },
  {
   "cell_type": "code",
   "execution_count": null,
   "id": "bf4bc418-c1a9-49fe-9a22-7a9ae7c98f28",
   "metadata": {},
   "outputs": [],
   "source": [
    "# ![]('img/...')"
   ]
  },
  {
   "cell_type": "markdown",
   "id": "db529402-c05e-4bb9-90be-a9f71547f3de",
   "metadata": {},
   "source": [
    "### 1.3 Setup the server"
   ]
  },
  {
   "cell_type": "code",
   "execution_count": null,
   "id": "2605bc39-b077-4b49-bf38-9df2da543353",
   "metadata": {},
   "outputs": [],
   "source": [
    "# ![]('img/...')"
   ]
  },
  {
   "cell_type": "markdown",
   "id": "5b6ac244-ee5f-4301-b4a2-1d821b8f95c2",
   "metadata": {},
   "source": [
    "## 2. Migrate data from Milestone 1 to S3"
   ]
  },
  {
   "cell_type": "markdown",
   "id": "a588c2d5-83ee-467b-ae60-a61549f52ad8",
   "metadata": {},
   "source": [
    "### 2.1 Setup S3 bucket and move data"
   ]
  },
  {
   "cell_type": "code",
   "execution_count": 4,
   "id": "bb167a0e-783a-4201-8bd7-1bffed5085d0",
   "metadata": {},
   "outputs": [],
   "source": [
    "# ![]('img/...')"
   ]
  },
  {
   "cell_type": "markdown",
   "id": "6fe2cce9-3473-4c2d-a181-f30942422f71",
   "metadata": {},
   "source": [
    "## 3 Wrangle Data"
   ]
  },
  {
   "cell_type": "code",
   "execution_count": null,
   "id": "bc9ccb73-0652-48cb-b0c9-30f0ad63ec21",
   "metadata": {},
   "outputs": [],
   "source": []
  },
  {
   "cell_type": "code",
   "execution_count": null,
   "id": "cf8bd211-e6b0-4dbd-ade7-c5e0bd7b7490",
   "metadata": {},
   "outputs": [],
   "source": []
  },
  {
   "cell_type": "code",
   "execution_count": null,
   "id": "f1952803-8f0c-4365-9cd1-7189ada7417f",
   "metadata": {},
   "outputs": [],
   "source": []
  },
  {
   "cell_type": "code",
   "execution_count": null,
   "id": "bb09014e-b5cd-4765-afe5-651d4f20552f",
   "metadata": {},
   "outputs": [],
   "source": []
  },
  {
   "cell_type": "code",
   "execution_count": null,
   "id": "73011285-3475-43c6-821c-9619dfebf454",
   "metadata": {},
   "outputs": [],
   "source": []
  }
 ],
 "metadata": {
  "kernelspec": {
   "display_name": "Python [conda env:525_2022]",
   "language": "python",
   "name": "conda-env-525_2022-py"
  },
  "language_info": {
   "codemirror_mode": {
    "name": "ipython",
    "version": 3
   },
   "file_extension": ".py",
   "mimetype": "text/x-python",
   "name": "python",
   "nbconvert_exporter": "python",
   "pygments_lexer": "ipython3",
   "version": "3.8.6"
  }
 },
 "nbformat": 4,
 "nbformat_minor": 5
}
