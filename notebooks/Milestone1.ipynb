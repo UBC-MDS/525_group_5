{
 "cells": [
  {
   "cell_type": "markdown",
   "id": "ea5e7203-ff95-42ed-9024-7e8b60eef2d5",
   "metadata": {},
   "source": [
    "# Milestone 1"
   ]
  },
  {
   "cell_type": "markdown",
   "id": "c511da80-850d-4242-b784-beaf77368acf",
   "metadata": {},
   "source": [
    "In this milestone, we will be reading in the data via Pandas."
   ]
  },
  {
   "cell_type": "markdown",
   "id": "388d4023-2ab5-44ac-896f-a7b40a96e0dd",
   "metadata": {},
   "source": [
    "## 1. Downloading the data"
   ]
  },
  {
   "cell_type": "code",
   "execution_count": 1,
   "id": "e9c8612a-4878-4a70-85c2-1e14884667d7",
   "metadata": {
    "tags": []
   },
   "outputs": [],
   "source": [
    "import re\n",
    "import os\n",
    "import glob\n",
    "import zipfile\n",
    "import requests\n",
    "from urllib.request import urlretrieve\n",
    "import json\n",
    "import pandas as pd"
   ]
  },
  {
   "cell_type": "code",
   "execution_count": 2,
   "id": "a740614f-7443-47fc-9042-953518e60fd5",
   "metadata": {},
   "outputs": [],
   "source": [
    "# Necessary metadata\n",
    "article_id = 14096681\n",
    "url = f\"https://api.figshare.com/v2/articles/{article_id}\"\n",
    "headers = {\"Content-Type\": \"application/json\"}\n",
    "output_directory = \"rainfallNSW/\""
   ]
  },
  {
   "cell_type": "code",
   "execution_count": 3,
   "id": "ae6864e0-d324-4240-bc93-6b681bc68275",
   "metadata": {},
   "outputs": [
    {
     "data": {
      "text/plain": [
       "[{'id': 26579150,\n",
       "  'name': 'daily_rainfall_2014.png',\n",
       "  'size': 58863,\n",
       "  'is_link_only': False,\n",
       "  'download_url': 'https://ndownloader.figshare.com/files/26579150',\n",
       "  'supplied_md5': 'fd32a2ffde300a31f8d63b1825d47e5e',\n",
       "  'computed_md5': 'fd32a2ffde300a31f8d63b1825d47e5e'},\n",
       " {'id': 26579171,\n",
       "  'name': 'environment.yml',\n",
       "  'size': 192,\n",
       "  'is_link_only': False,\n",
       "  'download_url': 'https://ndownloader.figshare.com/files/26579171',\n",
       "  'supplied_md5': '060b2020017eed93a1ee7dd8c65b2f34',\n",
       "  'computed_md5': '060b2020017eed93a1ee7dd8c65b2f34'},\n",
       " {'id': 26586554,\n",
       "  'name': 'README.md',\n",
       "  'size': 5422,\n",
       "  'is_link_only': False,\n",
       "  'download_url': 'https://ndownloader.figshare.com/files/26586554',\n",
       "  'supplied_md5': '61858c6cc0e6a6d6663a7e4c75bbd88c',\n",
       "  'computed_md5': '61858c6cc0e6a6d6663a7e4c75bbd88c'},\n",
       " {'id': 26766812,\n",
       "  'name': 'data.zip',\n",
       "  'size': 814041183,\n",
       "  'is_link_only': False,\n",
       "  'download_url': 'https://ndownloader.figshare.com/files/26766812',\n",
       "  'supplied_md5': 'b517383f76e77bd03755a63a8ff83ee9',\n",
       "  'computed_md5': 'b517383f76e77bd03755a63a8ff83ee9'},\n",
       " {'id': 26766815,\n",
       "  'name': 'get_data.py',\n",
       "  'size': 4113,\n",
       "  'is_link_only': False,\n",
       "  'download_url': 'https://ndownloader.figshare.com/files/26766815',\n",
       "  'supplied_md5': '7829028495fd9dec9680ea013474afa6',\n",
       "  'computed_md5': '7829028495fd9dec9680ea013474afa6'}]"
      ]
     },
     "execution_count": 3,
     "metadata": {},
     "output_type": "execute_result"
    }
   ],
   "source": [
    "response = requests.request(\"GET\", url, headers=headers)\n",
    "data = json.loads(response.text)  # this contains all the articles data, feel free to check it out\n",
    "files = data[\"files\"]             # this is just the data about the files, which is what we want\n",
    "files"
   ]
  },
  {
   "cell_type": "code",
   "execution_count": 4,
   "id": "2dea584d-70ab-4a82-afdf-34800d49bac7",
   "metadata": {},
   "outputs": [],
   "source": [
    "files_to_dl = [\"data.zip\"]  # feel free to add other files here\n",
    "for file in files:\n",
    "    if file[\"name\"] in files_to_dl:\n",
    "        os.makedirs(output_directory, exist_ok=True)\n",
    "        urlretrieve(file[\"download_url\"], output_directory + file[\"name\"])"
   ]
  },
  {
   "cell_type": "code",
   "execution_count": 5,
   "id": "767360e4-0963-4f65-bb5a-02b1438f5e85",
   "metadata": {},
   "outputs": [],
   "source": [
    "with zipfile.ZipFile(os.path.join(output_directory, \"data.zip\"), 'r') as f:\n",
    "    f.extractall(output_directory)"
   ]
  },
  {
   "cell_type": "markdown",
   "id": "e3a83481-02be-4abb-9de9-84cd73e8d322",
   "metadata": {},
   "source": [
    "## 2. Combining the data"
   ]
  },
  {
   "cell_type": "code",
   "execution_count": 8,
   "id": "e9f2aa00-91a0-4b04-8b78-2059379d1ad1",
   "metadata": {},
   "outputs": [
    {
     "name": "stdout",
     "output_type": "stream",
     "text": [
      "CPU times: total: 2min 30s\n",
      "Wall time: 2min 31s\n"
     ]
    },
    {
     "data": {
      "text/html": [
       "<div>\n",
       "<style scoped>\n",
       "    .dataframe tbody tr th:only-of-type {\n",
       "        vertical-align: middle;\n",
       "    }\n",
       "\n",
       "    .dataframe tbody tr th {\n",
       "        vertical-align: top;\n",
       "    }\n",
       "\n",
       "    .dataframe thead th {\n",
       "        text-align: right;\n",
       "    }\n",
       "</style>\n",
       "<table border=\"1\" class=\"dataframe\">\n",
       "  <thead>\n",
       "    <tr style=\"text-align: right;\">\n",
       "      <th></th>\n",
       "      <th>time</th>\n",
       "      <th>lat_min</th>\n",
       "      <th>lat_max</th>\n",
       "      <th>lon_min</th>\n",
       "      <th>lon_max</th>\n",
       "      <th>rain (mm/day)</th>\n",
       "      <th>model</th>\n",
       "    </tr>\n",
       "  </thead>\n",
       "  <tbody>\n",
       "    <tr>\n",
       "      <th>0</th>\n",
       "      <td>1889-01-01 12:00:00</td>\n",
       "      <td>-36.250000</td>\n",
       "      <td>-35.00000</td>\n",
       "      <td>140.625</td>\n",
       "      <td>142.500</td>\n",
       "      <td>3.293256e-13</td>\n",
       "      <td>ACCESS-CM2</td>\n",
       "    </tr>\n",
       "    <tr>\n",
       "      <th>1</th>\n",
       "      <td>1889-01-02 12:00:00</td>\n",
       "      <td>-36.250000</td>\n",
       "      <td>-35.00000</td>\n",
       "      <td>140.625</td>\n",
       "      <td>142.500</td>\n",
       "      <td>0.000000e+00</td>\n",
       "      <td>ACCESS-CM2</td>\n",
       "    </tr>\n",
       "    <tr>\n",
       "      <th>2</th>\n",
       "      <td>1889-01-03 12:00:00</td>\n",
       "      <td>-36.250000</td>\n",
       "      <td>-35.00000</td>\n",
       "      <td>140.625</td>\n",
       "      <td>142.500</td>\n",
       "      <td>0.000000e+00</td>\n",
       "      <td>ACCESS-CM2</td>\n",
       "    </tr>\n",
       "    <tr>\n",
       "      <th>3</th>\n",
       "      <td>1889-01-04 12:00:00</td>\n",
       "      <td>-36.250000</td>\n",
       "      <td>-35.00000</td>\n",
       "      <td>140.625</td>\n",
       "      <td>142.500</td>\n",
       "      <td>0.000000e+00</td>\n",
       "      <td>ACCESS-CM2</td>\n",
       "    </tr>\n",
       "    <tr>\n",
       "      <th>4</th>\n",
       "      <td>1889-01-05 12:00:00</td>\n",
       "      <td>-36.250000</td>\n",
       "      <td>-35.00000</td>\n",
       "      <td>140.625</td>\n",
       "      <td>142.500</td>\n",
       "      <td>1.047658e-02</td>\n",
       "      <td>ACCESS-CM2</td>\n",
       "    </tr>\n",
       "    <tr>\n",
       "      <th>...</th>\n",
       "      <td>...</td>\n",
       "      <td>...</td>\n",
       "      <td>...</td>\n",
       "      <td>...</td>\n",
       "      <td>...</td>\n",
       "      <td>...</td>\n",
       "      <td>...</td>\n",
       "    </tr>\n",
       "    <tr>\n",
       "      <th>62467838</th>\n",
       "      <td>2014-12-27 12:00:00</td>\n",
       "      <td>-30.157068</td>\n",
       "      <td>-29.21466</td>\n",
       "      <td>153.125</td>\n",
       "      <td>154.375</td>\n",
       "      <td>5.543748e-01</td>\n",
       "      <td>TaiESM1</td>\n",
       "    </tr>\n",
       "    <tr>\n",
       "      <th>62467839</th>\n",
       "      <td>2014-12-28 12:00:00</td>\n",
       "      <td>-30.157068</td>\n",
       "      <td>-29.21466</td>\n",
       "      <td>153.125</td>\n",
       "      <td>154.375</td>\n",
       "      <td>7.028577e+00</td>\n",
       "      <td>TaiESM1</td>\n",
       "    </tr>\n",
       "    <tr>\n",
       "      <th>62467840</th>\n",
       "      <td>2014-12-29 12:00:00</td>\n",
       "      <td>-30.157068</td>\n",
       "      <td>-29.21466</td>\n",
       "      <td>153.125</td>\n",
       "      <td>154.375</td>\n",
       "      <td>2.347570e-01</td>\n",
       "      <td>TaiESM1</td>\n",
       "    </tr>\n",
       "    <tr>\n",
       "      <th>62467841</th>\n",
       "      <td>2014-12-30 12:00:00</td>\n",
       "      <td>-30.157068</td>\n",
       "      <td>-29.21466</td>\n",
       "      <td>153.125</td>\n",
       "      <td>154.375</td>\n",
       "      <td>2.097459e+00</td>\n",
       "      <td>TaiESM1</td>\n",
       "    </tr>\n",
       "    <tr>\n",
       "      <th>62467842</th>\n",
       "      <td>2014-12-31 12:00:00</td>\n",
       "      <td>-30.157068</td>\n",
       "      <td>-29.21466</td>\n",
       "      <td>153.125</td>\n",
       "      <td>154.375</td>\n",
       "      <td>5.484206e-01</td>\n",
       "      <td>TaiESM1</td>\n",
       "    </tr>\n",
       "  </tbody>\n",
       "</table>\n",
       "<p>62467843 rows × 7 columns</p>\n",
       "</div>"
      ],
      "text/plain": [
       "                         time    lat_min   lat_max  lon_min  lon_max  \\\n",
       "0         1889-01-01 12:00:00 -36.250000 -35.00000  140.625  142.500   \n",
       "1         1889-01-02 12:00:00 -36.250000 -35.00000  140.625  142.500   \n",
       "2         1889-01-03 12:00:00 -36.250000 -35.00000  140.625  142.500   \n",
       "3         1889-01-04 12:00:00 -36.250000 -35.00000  140.625  142.500   \n",
       "4         1889-01-05 12:00:00 -36.250000 -35.00000  140.625  142.500   \n",
       "...                       ...        ...       ...      ...      ...   \n",
       "62467838  2014-12-27 12:00:00 -30.157068 -29.21466  153.125  154.375   \n",
       "62467839  2014-12-28 12:00:00 -30.157068 -29.21466  153.125  154.375   \n",
       "62467840  2014-12-29 12:00:00 -30.157068 -29.21466  153.125  154.375   \n",
       "62467841  2014-12-30 12:00:00 -30.157068 -29.21466  153.125  154.375   \n",
       "62467842  2014-12-31 12:00:00 -30.157068 -29.21466  153.125  154.375   \n",
       "\n",
       "          rain (mm/day)       model  \n",
       "0          3.293256e-13  ACCESS-CM2  \n",
       "1          0.000000e+00  ACCESS-CM2  \n",
       "2          0.000000e+00  ACCESS-CM2  \n",
       "3          0.000000e+00  ACCESS-CM2  \n",
       "4          1.047658e-02  ACCESS-CM2  \n",
       "...                 ...         ...  \n",
       "62467838   5.543748e-01     TaiESM1  \n",
       "62467839   7.028577e+00     TaiESM1  \n",
       "62467840   2.347570e-01     TaiESM1  \n",
       "62467841   2.097459e+00     TaiESM1  \n",
       "62467842   5.484206e-01     TaiESM1  \n",
       "\n",
       "[62467843 rows x 7 columns]"
      ]
     },
     "execution_count": 8,
     "metadata": {},
     "output_type": "execute_result"
    }
   ],
   "source": [
    "%%time\n",
    "import pandas as pd\n",
    "\n",
    "path = r'rainfallNSW' # use your path\n",
    "\n",
    "# uncomment for mac\n",
    "all_files = glob.glob(path + \"/*.csv\")\n",
    "all_files.remove(path + \"/observed_daily_rainfall_SYD.csv\")\n",
    "\n",
    "# uncomment for windows\n",
    "#all_files = glob.glob(path + \"\\\\*.csv\")\n",
    "#all_files.remove(path + \"\\\\observed_daily_rainfall_SYD.csv\")\n",
    "\n",
    "li = []\n",
    "\n",
    "for filename in all_files:\n",
    "    df = pd.read_csv(filename, index_col=None, header=0)\n",
    "    df['model'] = filename[12:-23]\n",
    "    li.append(df)\n",
    "\n",
    "combined_df = pd.concat(li, axis=0, ignore_index=True)\n",
    "combined_df"
   ]
  },
  {
   "cell_type": "markdown",
   "id": "fb3a4b10-266e-4d9e-87a2-ca1771e63887",
   "metadata": {},
   "source": [
    "**Saving combined csv**"
   ]
  },
  {
   "cell_type": "code",
   "execution_count": 12,
   "id": "5cc91427-f74c-43c7-a098-5c6feeefe79c",
   "metadata": {},
   "outputs": [],
   "source": [
    "combined_df.to_csv(\"../data/processed/figshare/combined_data.csv\")"
   ]
  },
  {
   "cell_type": "markdown",
   "id": "18b06057-76bc-4dd4-a0a5-3d033e51b2cb",
   "metadata": {},
   "source": [
    "## 3. Time taken to combine CSV file"
   ]
  },
  {
   "cell_type": "markdown",
   "id": "6b448b97-fec1-4ebf-ad91-d5f5583f9e67",
   "metadata": {},
   "source": [
    "| Team Member | Operating System | RAM | Processor | Is SSD | Time taken |\n",
    "|:-----------:|:----------------:|:---:|:---------:|:------:|:----------:|\n",
    "| Ruben       |       MacOS      |  8  |    M1     |   Yes  |            |\n",
    "| Jacqueline  |       MacOS      |  8  |IntelCorei5|   Yes  |  1min 8s   |\n",
    "| Kyle        |       Windows 10 |  16 |Intelcorei7|   Yes  |  2min 30s  |\n",
    "| Sanchit     |       MacOS      |  8  |    M1     |   Yes  |  40s       |"
   ]
  },
  {
   "cell_type": "markdown",
   "id": "cf0eb65c-9baa-475e-9b8c-c21d1ea46500",
   "metadata": {},
   "source": [
    "### 3.1 Observations"
   ]
  },
  {
   "cell_type": "markdown",
   "id": "9f06d725-b4bb-449b-93ab-644974677b9f",
   "metadata": {},
   "source": [
    "TO BE FILLED IN ... "
   ]
  },
  {
   "cell_type": "markdown",
   "id": "f3b37002-4974-4fd5-ab54-f271dc337936",
   "metadata": {},
   "source": [
    "## 4 Exploratory Data Analysis"
   ]
  },
  {
   "cell_type": "markdown",
   "id": "baa64006-3fed-4da8-a0f2-050b2281aa77",
   "metadata": {},
   "source": [
    "**Comparing the run times for loading the csv**"
   ]
  },
  {
   "cell_type": "code",
   "execution_count": 2,
   "id": "6f2446c0-9edb-403d-8551-b46f41fff2c2",
   "metadata": {},
   "outputs": [
    {
     "name": "stdout",
     "output_type": "stream",
     "text": [
      "<class 'pandas.core.frame.DataFrame'>\n",
      "RangeIndex: 62467843 entries, 0 to 62467842\n",
      "Data columns (total 8 columns):\n",
      " #   Column         Dtype  \n",
      "---  ------         -----  \n",
      " 0   Unnamed: 0     int64  \n",
      " 1   time           object \n",
      " 2   lat_min        float64\n",
      " 3   lat_max        float64\n",
      " 4   lon_min        float64\n",
      " 5   lon_max        float64\n",
      " 6   rain (mm/day)  float64\n",
      " 7   model          object \n",
      "dtypes: float64(5), int64(1), object(2)\n",
      "memory usage: 3.7+ GB\n",
      "CPU times: total: 4min 16s\n",
      "Wall time: 4min 25s\n"
     ]
    }
   ],
   "source": [
    "%%time\n",
    "df = pd.read_csv(\"../data/processed/figshare/combined_data.csv\")\n",
    "df.info()"
   ]
  },
  {
   "cell_type": "markdown",
   "id": "6efceb04-92d4-4592-9154-4f584d8816db",
   "metadata": {},
   "source": [
    "**Time taken to load the dataset**"
   ]
  },
  {
   "cell_type": "markdown",
   "id": "b9c16b74-1a16-4960-b875-f47a281e4476",
   "metadata": {},
   "source": [
    "| Team Member | Operating System | RAM | Processor | Is SSD | Time taken |\n",
    "|:-----------:|:----------------:|:---:|:---------:|:------:|:----------:|\n",
    "| Ruben       |       MacOS      |  8  |    M1     |   Yes  |            |\n",
    "| Jacqueline  |       MacOS      |  8  |IntelCorei5|   Yes  |            |\n",
    "| Kyle        |                  |     |           |        |            |\n",
    "| Sanchit     |       MacOS      |  8  |    M1     |   Yes  |  1min 2s   |"
   ]
  },
  {
   "cell_type": "markdown",
   "id": "f9bf21e4-612d-46c9-b38f-c0c95ee771b6",
   "metadata": {},
   "source": [
    "**The first method we will use to reduce the runtime will be to change the datatype. We will convert float64 to float32 for the numerical columns.**"
   ]
  },
  {
   "cell_type": "code",
   "execution_count": null,
   "id": "06d5bf4b-035d-44d2-85b1-53edd8453fea",
   "metadata": {},
   "outputs": [],
   "source": [
    "%%time\n",
    "combined_df_f32 = pd.read_csv(\"../data/processed/figshare/combined_data.csv\", dtype={'lat_min': 'float32', 'lat_max': 'float32', 'lon_min': 'float32', 'lon_max': 'float32', 'rain (mm/day)': 'float32'})\n",
    "combined_df_f32.info()"
   ]
  },
  {
   "cell_type": "markdown",
   "id": "24036411-215a-4a5b-ac81-98fb58f2554f",
   "metadata": {},
   "source": [
    "| Team Member | Operating System | RAM | Processor | Is SSD | Time taken |\n",
    "|:-----------:|:----------------:|:---:|:---------:|:------:|:----------:|\n",
    "| Ruben       |       MacOS      |  8  |    M1     |   Yes  |            |\n",
    "| Jacqueline  |       MacOS      |  8  |IntelCorei5|   Yes  |            |\n",
    "| Kyle        |                  |     |           |        |            |\n",
    "| Sanchit     |       MacOS      |  8  |    M1     |   Yes  |  1min      |"
   ]
  },
  {
   "cell_type": "markdown",
   "id": "a6d6d43a-7cc6-4058-8736-9da3c9e5fbdb",
   "metadata": {},
   "source": [
    "**The total time did not reduce considerably. We will now try to load individual columns and person EDA on them.**"
   ]
  },
  {
   "cell_type": "code",
   "execution_count": null,
   "id": "28882aff-cea2-402e-a48c-f68a958aea36",
   "metadata": {},
   "outputs": [],
   "source": [
    "combined_df.head()"
   ]
  },
  {
   "cell_type": "code",
   "execution_count": null,
   "id": "a58633b7-2892-4b51-bb89-8213637867f8",
   "metadata": {},
   "outputs": [],
   "source": [
    "%%time\n",
    "column = ['lat_max']\n",
    "combined_df_value = pd.read_csv(\"../data/processed/figshare/combined_data.csv\", usecols=column)\n",
    "print(combined_df_value.value_counts())"
   ]
  },
  {
   "cell_type": "markdown",
   "id": "3c9dd9cf-7cab-4ec5-9e84-b6592cee4733",
   "metadata": {},
   "source": [
    "| Team Member | Operating System | RAM | Processor | Is SSD | Time taken |\n",
    "|:-----------:|:----------------:|:---:|:---------:|:------:|:----------:|\n",
    "| Ruben       |       MacOS      |  8  |    M1     |   Yes  |            |\n",
    "| Jacqueline  |       MacOS      |  8  |IntelCorei5|   Yes  |            |\n",
    "| Kyle        |                  |     |           |        |            |\n",
    "| Sanchit     |       MacOS      |  8  |    M1     |   Yes  |  25s       |"
   ]
  },
  {
   "cell_type": "markdown",
   "id": "06437ed8-f3e4-4bd5-b83b-2e79cad316be",
   "metadata": {},
   "source": [
    "It took only about 25 seconds. But this is not a feasible solution since its not scalable."
   ]
  },
  {
   "cell_type": "code",
   "execution_count": null,
   "id": "d6273dc8-288a-429e-b4d4-5821455240d2",
   "metadata": {},
   "outputs": [],
   "source": [
    "%%time\n",
    "combined_df.describe()"
   ]
  },
  {
   "cell_type": "markdown",
   "id": "aa133870-ae47-4485-97dc-36f0ab91ea25",
   "metadata": {},
   "source": [
    "| Team Member | Operating System | RAM | Processor | Is SSD | Time taken |\n",
    "|:-----------:|:----------------:|:---:|:---------:|:------:|:----------:|\n",
    "| Ruben       |       MacOS      |  8  |    M1     |   Yes  |            |\n",
    "| Jacqueline  |       MacOS      |  8  |IntelCorei5|   Yes  |            |\n",
    "| Kyle        |                  |     |           |        |            |\n",
    "| Sanchit     |       MacOS      |  8  |    M1     |   Yes  |  10s       |"
   ]
  },
  {
   "cell_type": "markdown",
   "id": "374f74a7-c580-4249-8aab-edbebb287aaa",
   "metadata": {},
   "source": [
    "### Code for Parquet file"
   ]
  },
  {
   "cell_type": "code",
   "execution_count": null,
   "id": "77527222-ab23-4f32-9085-9b465d963600",
   "metadata": {
    "tags": []
   },
   "outputs": [],
   "source": [
    "%load_ext rpy2.ipython"
   ]
  },
  {
   "cell_type": "code",
   "execution_count": null,
   "id": "1f68f81d-dc5e-4a1b-9d84-39aa6bfffc9f",
   "metadata": {
    "tags": []
   },
   "outputs": [],
   "source": [
    "%%time\n",
    "combined_df.to_parquet(\"rainfallNSW/combined_data.parquet\")"
   ]
  },
  {
   "cell_type": "code",
   "execution_count": null,
   "id": "b5a7b70f-764c-4ab0-9556-46a9dab20284",
   "metadata": {
    "tags": []
   },
   "outputs": [],
   "source": [
    "%%R\n",
    "suppressMessages(library(data.table))\n",
    "suppressMessages(library(dplyr, warn.conflicts = FALSE))\n",
    "suppressMessages(library(ggplot2))"
   ]
  },
  {
   "cell_type": "code",
   "execution_count": null,
   "id": "5c2a37f2-f18c-4023-b9a3-3bdf28d7e046",
   "metadata": {
    "tags": []
   },
   "outputs": [],
   "source": [
    "r_parquet <- open_dataset(\"rainfallNSW/combined_data.parquet\")\n",
    "r_df <- r_parquet |> collect()"
   ]
  },
  {
   "cell_type": "markdown",
   "id": "a4fe9ac1-26c9-457d-93e3-60d209266e5a",
   "metadata": {
    "tags": []
   },
   "source": [
    "> We decided to use a Parquet file to transfer our data frame for several reasons.\n",
    "> 1. **Time:** This approach allows for the quickest and most convenient recovery in the event that we have to restart the kernel or the notebook crashes. Essentially this us to pick up where we left off without having to repeat the earlier steps in python.\n",
    "> 2. **Flexibility**: Parquet allows us to easily read our data into many different languages without needing to know the interactions between said languages. Furthermore we can save time and memory by using partitioning to read in only what is needed, rather than loading the entire data frame into memory and then filtering it.\n",
    "> 3. **Memory**: Having consolidated our data into a parquet file we no longer need to keep our original CSV files. This essentially allows us to store the same information with a fraction of the memory requirement, in a format that is arguably more desirable than CSV.\n",
    ">  \n",
    "> - We did experiment with Arrow Exchange before ultimately deciding to use Parquet. Arrow Exchange code is commented out at the bottom of the notebook"
   ]
  },
  {
   "cell_type": "markdown",
   "id": "5af7cb95-a030-43c4-927a-30c037d504ea",
   "metadata": {
    "tags": []
   },
   "source": [
    "### EDA in R"
   ]
  },
  {
   "cell_type": "code",
   "execution_count": null,
   "id": "13d0aef3-5d9d-4dfe-bfd4-3196bb64839c",
   "metadata": {
    "tags": []
   },
   "outputs": [],
   "source": [
    "%%time\n",
    "%%R\n",
    "r_df |> str()"
   ]
  },
  {
   "cell_type": "code",
   "execution_count": null,
   "id": "ea040e88-c8a7-42bf-acd7-746e70ca8baa",
   "metadata": {
    "tags": []
   },
   "outputs": [],
   "source": [
    "%%time\n",
    "%%R\n",
    "r_df |> head()"
   ]
  },
  {
   "cell_type": "code",
   "execution_count": null,
   "id": "edfb993e-8b58-40e6-acaa-72a45d42445f",
   "metadata": {
    "tags": []
   },
   "outputs": [],
   "source": [
    "%%time\n",
    "%%R\n",
    "r_df |> summary()"
   ]
  },
  {
   "cell_type": "markdown",
   "id": "cf3f5f52-c0ca-476f-8c36-302ee1cdecb3",
   "metadata": {
    "tags": []
   },
   "source": [
    "### Code for Arrow Exchange"
   ]
  },
  {
   "cell_type": "code",
   "execution_count": null,
   "id": "c86f568b-a817-4f5b-bad2-2d0f49a1af84",
   "metadata": {
    "tags": []
   },
   "outputs": [],
   "source": [
    "#import pyarrow as pa\n",
    "#import pyarrow \n",
    "#from pyarrow import csv\n",
    "#import rpy2_arrow.pyarrow_rarrow as pyra"
   ]
  },
  {
   "cell_type": "code",
   "execution_count": null,
   "id": "4ee99224-a540-4632-a84e-54b78256d720",
   "metadata": {
    "tags": []
   },
   "outputs": [],
   "source": [
    "#pyarrow_table = pa.Table.from_pandas(combined_df)\n",
    "#r_table = pyra.converter.py2rpy(pyarrow_table)"
   ]
  },
  {
   "cell_type": "code",
   "execution_count": null,
   "id": "8fb8966f-85f3-4b66-8764-d7d64e0fb9e6",
   "metadata": {
    "tags": []
   },
   "outputs": [],
   "source": [
    "#%%time\n",
    "#%%R -i r_table\n",
    "#suppressMessages(library(arrow, warn.conflicts = FALSE))\n",
    "#suppressMessages(library(dplyr, warn.conflicts = FALSE))\n",
    "#r_df <- r_table |> collect()"
   ]
  },
  {
   "cell_type": "code",
   "execution_count": null,
   "id": "42d6c2b4-b104-4e2b-a16f-eb604086b91b",
   "metadata": {},
   "outputs": [],
   "source": []
  }
 ],
 "metadata": {
  "kernelspec": {
   "display_name": "Python [conda env:525_2022]",
   "language": "python",
   "name": "conda-env-525_2022-py"
  },
  "language_info": {
   "codemirror_mode": {
    "name": "ipython",
    "version": 3
   },
   "file_extension": ".py",
   "mimetype": "text/x-python",
   "name": "python",
   "nbconvert_exporter": "python",
   "pygments_lexer": "ipython3",
   "version": "3.8.6"
  }
 },
 "nbformat": 4,
 "nbformat_minor": 5
}
