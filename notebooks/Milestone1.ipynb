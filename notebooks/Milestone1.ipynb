{
 "cells": [
  {
   "cell_type": "markdown",
   "id": "ea5e7203-ff95-42ed-9024-7e8b60eef2d5",
   "metadata": {},
   "source": [
    "# Milestone 1"
   ]
  },
  {
   "cell_type": "markdown",
   "id": "c511da80-850d-4242-b784-beaf77368acf",
   "metadata": {},
   "source": [
    "In this milestone, we will be **reading in vanilla CSV files via Pandas**. We will first download the data, retrieve unzip the folder then combine the individual CSV files into a combined file. After which, we will perform EDA on Python and R. \n",
    "\n",
    "The **objective for the Python aspect** is to determine which approach is better in loading the combined CSV file to save time and storage. \n",
    "\n",
    "The **objective for the R aspect** is to determine which approach is best to transfer the dataframe from Python to R. "
   ]
  },
  {
   "cell_type": "markdown",
   "id": "388d4023-2ab5-44ac-896f-a7b40a96e0dd",
   "metadata": {},
   "source": [
    "## 1. Downloading the data"
   ]
  },
  {
   "cell_type": "code",
   "execution_count": 1,
   "id": "e9c8612a-4878-4a70-85c2-1e14884667d7",
   "metadata": {
    "tags": []
   },
   "outputs": [],
   "source": [
    "import re\n",
    "import os\n",
    "import glob\n",
    "import zipfile\n",
    "import requests\n",
    "from urllib.request import urlretrieve\n",
    "import json\n",
    "import pandas as pd"
   ]
  },
  {
   "cell_type": "code",
   "execution_count": 2,
   "id": "a740614f-7443-47fc-9042-953518e60fd5",
   "metadata": {},
   "outputs": [],
   "source": [
    "# Necessary metadata\n",
    "article_id = 14096681\n",
    "url = f\"https://api.figshare.com/v2/articles/{article_id}\"\n",
    "headers = {\"Content-Type\": \"application/json\"}\n",
    "output_directory = \"rainfallNSW/\""
   ]
  },
  {
   "cell_type": "code",
   "execution_count": 3,
   "id": "ae6864e0-d324-4240-bc93-6b681bc68275",
   "metadata": {},
   "outputs": [
    {
     "data": {
      "text/plain": [
       "[{'id': 26579150,\n",
       "  'name': 'daily_rainfall_2014.png',\n",
       "  'size': 58863,\n",
       "  'is_link_only': False,\n",
       "  'download_url': 'https://ndownloader.figshare.com/files/26579150',\n",
       "  'supplied_md5': 'fd32a2ffde300a31f8d63b1825d47e5e',\n",
       "  'computed_md5': 'fd32a2ffde300a31f8d63b1825d47e5e'},\n",
       " {'id': 26579171,\n",
       "  'name': 'environment.yml',\n",
       "  'size': 192,\n",
       "  'is_link_only': False,\n",
       "  'download_url': 'https://ndownloader.figshare.com/files/26579171',\n",
       "  'supplied_md5': '060b2020017eed93a1ee7dd8c65b2f34',\n",
       "  'computed_md5': '060b2020017eed93a1ee7dd8c65b2f34'},\n",
       " {'id': 26586554,\n",
       "  'name': 'README.md',\n",
       "  'size': 5422,\n",
       "  'is_link_only': False,\n",
       "  'download_url': 'https://ndownloader.figshare.com/files/26586554',\n",
       "  'supplied_md5': '61858c6cc0e6a6d6663a7e4c75bbd88c',\n",
       "  'computed_md5': '61858c6cc0e6a6d6663a7e4c75bbd88c'},\n",
       " {'id': 26766812,\n",
       "  'name': 'data.zip',\n",
       "  'size': 814041183,\n",
       "  'is_link_only': False,\n",
       "  'download_url': 'https://ndownloader.figshare.com/files/26766812',\n",
       "  'supplied_md5': 'b517383f76e77bd03755a63a8ff83ee9',\n",
       "  'computed_md5': 'b517383f76e77bd03755a63a8ff83ee9'},\n",
       " {'id': 26766815,\n",
       "  'name': 'get_data.py',\n",
       "  'size': 4113,\n",
       "  'is_link_only': False,\n",
       "  'download_url': 'https://ndownloader.figshare.com/files/26766815',\n",
       "  'supplied_md5': '7829028495fd9dec9680ea013474afa6',\n",
       "  'computed_md5': '7829028495fd9dec9680ea013474afa6'}]"
      ]
     },
     "execution_count": 3,
     "metadata": {},
     "output_type": "execute_result"
    }
   ],
   "source": [
    "response = requests.request(\"GET\", url, headers=headers)\n",
    "data = json.loads(response.text)  # this contains all the articles data, feel free to check it out\n",
    "files = data[\"files\"]             # this is just the data about the files, which is what we want\n",
    "files"
   ]
  },
  {
   "cell_type": "code",
   "execution_count": 4,
   "id": "2dea584d-70ab-4a82-afdf-34800d49bac7",
   "metadata": {},
   "outputs": [],
   "source": [
    "files_to_dl = [\"data.zip\"]  # feel free to add other files here\n",
    "for file in files:\n",
    "    if file[\"name\"] in files_to_dl:\n",
    "        os.makedirs(output_directory, exist_ok=True)\n",
    "        urlretrieve(file[\"download_url\"], output_directory + file[\"name\"])"
   ]
  },
  {
   "cell_type": "code",
   "execution_count": 5,
   "id": "767360e4-0963-4f65-bb5a-02b1438f5e85",
   "metadata": {},
   "outputs": [],
   "source": [
    "with zipfile.ZipFile(os.path.join(output_directory, \"data.zip\"), 'r') as f:\n",
    "    f.extractall(output_directory)"
   ]
  },
  {
   "cell_type": "markdown",
   "id": "e3a83481-02be-4abb-9de9-84cd73e8d322",
   "metadata": {},
   "source": [
    "## 2. Combining CSV files"
   ]
  },
  {
   "cell_type": "code",
   "execution_count": 6,
   "id": "e9f2aa00-91a0-4b04-8b78-2059379d1ad1",
   "metadata": {},
   "outputs": [
    {
     "name": "stdout",
     "output_type": "stream",
     "text": [
      "CPU times: user 52.2 s, sys: 10.4 s, total: 1min 2s\n",
      "Wall time: 1min 7s\n"
     ]
    },
    {
     "data": {
      "text/html": [
       "<div>\n",
       "<style scoped>\n",
       "    .dataframe tbody tr th:only-of-type {\n",
       "        vertical-align: middle;\n",
       "    }\n",
       "\n",
       "    .dataframe tbody tr th {\n",
       "        vertical-align: top;\n",
       "    }\n",
       "\n",
       "    .dataframe thead th {\n",
       "        text-align: right;\n",
       "    }\n",
       "</style>\n",
       "<table border=\"1\" class=\"dataframe\">\n",
       "  <thead>\n",
       "    <tr style=\"text-align: right;\">\n",
       "      <th></th>\n",
       "      <th>time</th>\n",
       "      <th>lat_min</th>\n",
       "      <th>lat_max</th>\n",
       "      <th>lon_min</th>\n",
       "      <th>lon_max</th>\n",
       "      <th>rain (mm/day)</th>\n",
       "      <th>model</th>\n",
       "    </tr>\n",
       "  </thead>\n",
       "  <tbody>\n",
       "    <tr>\n",
       "      <th>0</th>\n",
       "      <td>1889-01-01 12:00:00</td>\n",
       "      <td>-35.439867</td>\n",
       "      <td>-33.574619</td>\n",
       "      <td>141.5625</td>\n",
       "      <td>143.4375</td>\n",
       "      <td>4.244226e-13</td>\n",
       "      <td>MPI-ESM-1-2-HAM</td>\n",
       "    </tr>\n",
       "    <tr>\n",
       "      <th>1</th>\n",
       "      <td>1889-01-02 12:00:00</td>\n",
       "      <td>-35.439867</td>\n",
       "      <td>-33.574619</td>\n",
       "      <td>141.5625</td>\n",
       "      <td>143.4375</td>\n",
       "      <td>4.217326e-13</td>\n",
       "      <td>MPI-ESM-1-2-HAM</td>\n",
       "    </tr>\n",
       "    <tr>\n",
       "      <th>2</th>\n",
       "      <td>1889-01-03 12:00:00</td>\n",
       "      <td>-35.439867</td>\n",
       "      <td>-33.574619</td>\n",
       "      <td>141.5625</td>\n",
       "      <td>143.4375</td>\n",
       "      <td>4.498125e-13</td>\n",
       "      <td>MPI-ESM-1-2-HAM</td>\n",
       "    </tr>\n",
       "    <tr>\n",
       "      <th>3</th>\n",
       "      <td>1889-01-04 12:00:00</td>\n",
       "      <td>-35.439867</td>\n",
       "      <td>-33.574619</td>\n",
       "      <td>141.5625</td>\n",
       "      <td>143.4375</td>\n",
       "      <td>4.251282e-13</td>\n",
       "      <td>MPI-ESM-1-2-HAM</td>\n",
       "    </tr>\n",
       "    <tr>\n",
       "      <th>4</th>\n",
       "      <td>1889-01-05 12:00:00</td>\n",
       "      <td>-35.439867</td>\n",
       "      <td>-33.574619</td>\n",
       "      <td>141.5625</td>\n",
       "      <td>143.4375</td>\n",
       "      <td>4.270161e-13</td>\n",
       "      <td>MPI-ESM-1-2-HAM</td>\n",
       "    </tr>\n",
       "    <tr>\n",
       "      <th>...</th>\n",
       "      <td>...</td>\n",
       "      <td>...</td>\n",
       "      <td>...</td>\n",
       "      <td>...</td>\n",
       "      <td>...</td>\n",
       "      <td>...</td>\n",
       "      <td>...</td>\n",
       "    </tr>\n",
       "    <tr>\n",
       "      <th>62467838</th>\n",
       "      <td>2014-12-27 12:00:00</td>\n",
       "      <td>-30.157068</td>\n",
       "      <td>-29.214660</td>\n",
       "      <td>153.1250</td>\n",
       "      <td>154.3750</td>\n",
       "      <td>6.689683e+00</td>\n",
       "      <td>SAM0-UNICON</td>\n",
       "    </tr>\n",
       "    <tr>\n",
       "      <th>62467839</th>\n",
       "      <td>2014-12-28 12:00:00</td>\n",
       "      <td>-30.157068</td>\n",
       "      <td>-29.214660</td>\n",
       "      <td>153.1250</td>\n",
       "      <td>154.3750</td>\n",
       "      <td>7.862555e+00</td>\n",
       "      <td>SAM0-UNICON</td>\n",
       "    </tr>\n",
       "    <tr>\n",
       "      <th>62467840</th>\n",
       "      <td>2014-12-29 12:00:00</td>\n",
       "      <td>-30.157068</td>\n",
       "      <td>-29.214660</td>\n",
       "      <td>153.1250</td>\n",
       "      <td>154.3750</td>\n",
       "      <td>1.000503e+01</td>\n",
       "      <td>SAM0-UNICON</td>\n",
       "    </tr>\n",
       "    <tr>\n",
       "      <th>62467841</th>\n",
       "      <td>2014-12-30 12:00:00</td>\n",
       "      <td>-30.157068</td>\n",
       "      <td>-29.214660</td>\n",
       "      <td>153.1250</td>\n",
       "      <td>154.3750</td>\n",
       "      <td>8.541592e+00</td>\n",
       "      <td>SAM0-UNICON</td>\n",
       "    </tr>\n",
       "    <tr>\n",
       "      <th>62467842</th>\n",
       "      <td>2014-12-31 12:00:00</td>\n",
       "      <td>-30.157068</td>\n",
       "      <td>-29.214660</td>\n",
       "      <td>153.1250</td>\n",
       "      <td>154.3750</td>\n",
       "      <td>6.811749e+01</td>\n",
       "      <td>SAM0-UNICON</td>\n",
       "    </tr>\n",
       "  </tbody>\n",
       "</table>\n",
       "<p>62467843 rows × 7 columns</p>\n",
       "</div>"
      ],
      "text/plain": [
       "                         time    lat_min    lat_max   lon_min   lon_max  \\\n",
       "0         1889-01-01 12:00:00 -35.439867 -33.574619  141.5625  143.4375   \n",
       "1         1889-01-02 12:00:00 -35.439867 -33.574619  141.5625  143.4375   \n",
       "2         1889-01-03 12:00:00 -35.439867 -33.574619  141.5625  143.4375   \n",
       "3         1889-01-04 12:00:00 -35.439867 -33.574619  141.5625  143.4375   \n",
       "4         1889-01-05 12:00:00 -35.439867 -33.574619  141.5625  143.4375   \n",
       "...                       ...        ...        ...       ...       ...   \n",
       "62467838  2014-12-27 12:00:00 -30.157068 -29.214660  153.1250  154.3750   \n",
       "62467839  2014-12-28 12:00:00 -30.157068 -29.214660  153.1250  154.3750   \n",
       "62467840  2014-12-29 12:00:00 -30.157068 -29.214660  153.1250  154.3750   \n",
       "62467841  2014-12-30 12:00:00 -30.157068 -29.214660  153.1250  154.3750   \n",
       "62467842  2014-12-31 12:00:00 -30.157068 -29.214660  153.1250  154.3750   \n",
       "\n",
       "          rain (mm/day)            model  \n",
       "0          4.244226e-13  MPI-ESM-1-2-HAM  \n",
       "1          4.217326e-13  MPI-ESM-1-2-HAM  \n",
       "2          4.498125e-13  MPI-ESM-1-2-HAM  \n",
       "3          4.251282e-13  MPI-ESM-1-2-HAM  \n",
       "4          4.270161e-13  MPI-ESM-1-2-HAM  \n",
       "...                 ...              ...  \n",
       "62467838   6.689683e+00      SAM0-UNICON  \n",
       "62467839   7.862555e+00      SAM0-UNICON  \n",
       "62467840   1.000503e+01      SAM0-UNICON  \n",
       "62467841   8.541592e+00      SAM0-UNICON  \n",
       "62467842   6.811749e+01      SAM0-UNICON  \n",
       "\n",
       "[62467843 rows x 7 columns]"
      ]
     },
     "execution_count": 6,
     "metadata": {},
     "output_type": "execute_result"
    }
   ],
   "source": [
    "%%time\n",
    "import pandas as pd\n",
    "\n",
    "path = r'rainfallNSW' # use your path\n",
    "all_files = glob.glob(path + \"/*.csv\")\n",
    "all_files.remove(path + \"/observed_daily_rainfall_SYD.csv\")\n",
    "li = []\n",
    "\n",
    "for filename in all_files:\n",
    "    df = pd.read_csv(filename, index_col=None, header=0)\n",
    "    df['model'] = filename[12:-23]\n",
    "    li.append(df)\n",
    "\n",
    "combined_df = pd.concat(li, axis=0, ignore_index=True)\n",
    "combined_df"
   ]
  },
  {
   "cell_type": "markdown",
   "id": "18b06057-76bc-4dd4-a0a5-3d033e51b2cb",
   "metadata": {},
   "source": [
    "### 2.1. Time taken to combine CSV file"
   ]
  },
  {
   "cell_type": "markdown",
   "id": "6b448b97-fec1-4ebf-ad91-d5f5583f9e67",
   "metadata": {},
   "source": [
    "| Team Member | Operating System | RAM | Processor | Is SSD | Time taken |\n",
    "|:-----------:|:----------------:|:---:|:---------:|:------:|:----------:|\n",
    "| Ruben       |       MacOS      |  8  |    M1     |   Yes  |  50s       |\n",
    "| Jacqueline  |       MacOS      |  8  |IntelCorei5|   Yes  |  1min 7s   |\n",
    "| Kyle        |       Windows 10 |  16 |Intelcorei7|   Yes  |  2min 30s  |\n",
    "| Sanchit     |       MacOS      |  8  |    M1     |   Yes  |  40s       |"
   ]
  },
  {
   "cell_type": "markdown",
   "id": "cf0eb65c-9baa-475e-9b8c-c21d1ea46500",
   "metadata": {},
   "source": [
    "### 2.2 Observations"
   ]
  },
  {
   "cell_type": "markdown",
   "id": "9f06d725-b4bb-449b-93ab-644974677b9f",
   "metadata": {},
   "source": [
    "We can see that both the **Operating System** and the **Processor** of the computer affect the amount of time it takes to combine the csv files.  The M1 chip performed better than the Intel processors, since it took less time to combine the csv files, and overall we can see that the MacOS operating system performed better than the Windows OS, in spite of the fact that the MacOS computers had 8GB of RAM vs 16 GB of RAM that the Windows computer has.  \n",
    "\n",
    "Also, the Intel Mac computer had an i5 processor, and performed better than the Windows computer with an i7 processor, which shows the difference between the Operating Systems.  \n",
    "\n",
    "However, theoretically, this believe that the difference should not be so stark since the computer has a much faster processing speed. This might be due to the individual's laptop. "
   ]
  },
  {
   "cell_type": "markdown",
   "id": "f3b37002-4974-4fd5-ab54-f271dc337936",
   "metadata": {},
   "source": [
    "## 3. Python EDA "
   ]
  },
  {
   "cell_type": "markdown",
   "id": "fff93076-6288-44f7-b1a3-1f71679a258b",
   "metadata": {},
   "source": [
    "We will try out various approaches to reduce run time and memory usage and performing a simple EDA for predicting the daily rainfall in Australia. \n",
    "\n",
    "We recorded our baseline, via **pd.read_csv**. Afterwhich, we will compare two approaches to the baseline.  \n",
    "- The **first approach** is to change *dtype* of the data\n",
    "- The **second approach** is to only load 1 column and see its effect on the run time.\n",
    "\n",
    "We will run the above tasks and note down the run time in each members' computer. "
   ]
  },
  {
   "cell_type": "markdown",
   "id": "baa64006-3fed-4da8-a0f2-050b2281aa77",
   "metadata": {},
   "source": [
    "### 3.1 Baseline: Load in CSV file"
   ]
  },
  {
   "cell_type": "markdown",
   "id": "fb3a4b10-266e-4d9e-87a2-ca1771e63887",
   "metadata": {},
   "source": [
    "**Saving combined csv**"
   ]
  },
  {
   "cell_type": "code",
   "execution_count": 7,
   "id": "5cc91427-f74c-43c7-a098-5c6feeefe79c",
   "metadata": {},
   "outputs": [],
   "source": [
    "combined_df.to_csv(\"combined_df.csv\")"
   ]
  },
  {
   "cell_type": "code",
   "execution_count": 8,
   "id": "6f2446c0-9edb-403d-8551-b46f41fff2c2",
   "metadata": {},
   "outputs": [
    {
     "name": "stdout",
     "output_type": "stream",
     "text": [
      "<class 'pandas.core.frame.DataFrame'>\n",
      "RangeIndex: 62467843 entries, 0 to 62467842\n",
      "Data columns (total 8 columns):\n",
      " #   Column         Dtype  \n",
      "---  ------         -----  \n",
      " 0   Unnamed: 0     int64  \n",
      " 1   time           object \n",
      " 2   lat_min        float64\n",
      " 3   lat_max        float64\n",
      " 4   lon_min        float64\n",
      " 5   lon_max        float64\n",
      " 6   rain (mm/day)  float64\n",
      " 7   model          object \n",
      "dtypes: float64(5), int64(1), object(2)\n",
      "memory usage: 3.7+ GB\n",
      "CPU times: user 1min 11s, sys: 44 s, total: 1min 54s\n",
      "Wall time: 2min 5s\n"
     ]
    }
   ],
   "source": [
    "%%time\n",
    "combined_df = pd.read_csv(\"combined_df.csv\")\n",
    "combined_df.info()"
   ]
  },
  {
   "cell_type": "markdown",
   "id": "6efceb04-92d4-4592-9154-4f584d8816db",
   "metadata": {},
   "source": [
    "#### 3.1.1 Time taken to load the dataset"
   ]
  },
  {
   "cell_type": "markdown",
   "id": "b9c16b74-1a16-4960-b875-f47a281e4476",
   "metadata": {},
   "source": [
    "| Team Member | Operating System | RAM | Processor | Is SSD | Time taken |\n",
    "|:-----------:|:----------------:|:---:|:---------:|:------:|:----------:|\n",
    "| Ruben       |       MacOS      |  8  |    M1     |   Yes  |  1min 36s  |\n",
    "| Jacqueline  |       MacOS      |  8  |IntelCorei5|   Yes  |  2min 5s   |\n",
    "| Kyle        |       Windows 10 |  16 |Intelcorei7|   Yes  |  4min 45s  |\n",
    "| Sanchit     |       MacOS      |  8  |    M1     |   Yes  |  1min 32s  |"
   ]
  },
  {
   "cell_type": "markdown",
   "id": "c5011318-6e0e-4d95-b2ea-1ed380166394",
   "metadata": {},
   "source": [
    "#### 3.1.2 Observations"
   ]
  },
  {
   "cell_type": "markdown",
   "id": "f9bf21e4-612d-46c9-b38f-c0c95ee771b6",
   "metadata": {},
   "source": [
    "Comparing between operating systems, it appears that while the Windows 10 OS had a higher RAM, the time taken to load the dataset is significantly slower (took twice to three times the duration to load). \n",
    "\n",
    "Comparing between the difference processors in MacOS, it is clear that to load the CSV file, the M1 processor performed about 25% faster than the IntelCorei5 processor."
   ]
  },
  {
   "cell_type": "markdown",
   "id": "002c787e-6ecb-4872-afd6-1200dc702384",
   "metadata": {},
   "source": [
    "### 3.2 Approach 1: Convert numerical columns from float64 to float32"
   ]
  },
  {
   "cell_type": "code",
   "execution_count": 9,
   "id": "06d5bf4b-035d-44d2-85b1-53edd8453fea",
   "metadata": {},
   "outputs": [
    {
     "name": "stdout",
     "output_type": "stream",
     "text": [
      "<class 'pandas.core.frame.DataFrame'>\n",
      "RangeIndex: 62467843 entries, 0 to 62467842\n",
      "Data columns (total 8 columns):\n",
      " #   Column         Dtype  \n",
      "---  ------         -----  \n",
      " 0   Unnamed: 0     int64  \n",
      " 1   time           object \n",
      " 2   lat_min        float32\n",
      " 3   lat_max        float32\n",
      " 4   lon_min        float32\n",
      " 5   lon_max        float32\n",
      " 6   rain (mm/day)  float32\n",
      " 7   model          object \n",
      "dtypes: float32(5), int64(1), object(2)\n",
      "memory usage: 2.6+ GB\n",
      "CPU times: user 1min 11s, sys: 34 s, total: 1min 45s\n",
      "Wall time: 1min 54s\n"
     ]
    }
   ],
   "source": [
    "%%time\n",
    "combined_df_f32 = pd.read_csv(\"combined_df.csv\", dtype={'lat_min': 'float32', 'lat_max': 'float32', 'lon_min': 'float32', 'lon_max': 'float32', 'rain (mm/day)': 'float32'})\n",
    "combined_df_f32.info()"
   ]
  },
  {
   "cell_type": "markdown",
   "id": "a2d35fad-22f3-4aa0-b438-d43e21aede69",
   "metadata": {},
   "source": [
    "#### 3.2.1 Time taken to load the dataset"
   ]
  },
  {
   "cell_type": "markdown",
   "id": "24036411-215a-4a5b-ac81-98fb58f2554f",
   "metadata": {},
   "source": [
    "| Team Member | Operating System | RAM | Processor | Is SSD | Time taken |\n",
    "|:-----------:|:----------------:|:---:|:---------:|:------:|:----------:|\n",
    "| Ruben       |       MacOS      |  8  |    M1     |   Yes  | 1min 27s   |\n",
    "| Jacqueline  |       MacOS      |  8  |IntelCorei5|   Yes  | 1min 54s    |\n",
    "| Kyle        |       Windows 10 |  16 |Intelcorei7|   Yes  | 5min 16s  |\n",
    "| Sanchit     |       MacOS      |  8  |    M1     |   Yes  | 1min 12s   |"
   ]
  },
  {
   "cell_type": "markdown",
   "id": "fb1b2af5-bfa9-4c0f-b445-0d7a0ba56fb5",
   "metadata": {},
   "source": [
    "#### 3.2.2 Observations"
   ]
  },
  {
   "cell_type": "markdown",
   "id": "a6d6d43a-7cc6-4058-8736-9da3c9e5fbdb",
   "metadata": {},
   "source": [
    "Overall, the total time taken to load the data did not reduce considerably, but the memory usage reduced from upwards of 3.7GB to upwards of 2.6GB.   \n",
    "\n",
    "Comparing between the operating systems, the Windows10 OS took twice to three times longer to load the new CSV file compared to MacOS.  \n",
    "\n",
    "Comparing between the different processors in MacOS, there is an interesting observation. For the IntelCorei5 processor, the time difference in loading the new CSV file is 9s, while the difference for the M1 chip is between 9 to 20s, which is much higher. This could be an instance where the new M1 chip works more effectively."
   ]
  },
  {
   "cell_type": "markdown",
   "id": "6ab10842-c3f2-4ce2-8876-8a8b48c14619",
   "metadata": {},
   "source": [
    "### 3.3 Approach 2: Load individual columns"
   ]
  },
  {
   "cell_type": "code",
   "execution_count": 10,
   "id": "a58633b7-2892-4b51-bb89-8213637867f8",
   "metadata": {},
   "outputs": [
    {
     "name": "stdout",
     "output_type": "stream",
     "text": [
      "lat_max   \n",
      "-31.099476    3035329\n",
      "-32.041885    3035329\n",
      "-34.869110    3035329\n",
      "-32.984293    3035329\n",
      "-30.000000    2529870\n",
      "               ...   \n",
      "-33.487232     183960\n",
      "-33.490981     183960\n",
      "-30.696652     183960\n",
      "-30.700015     183960\n",
      "-27.906064     183960\n",
      "Length: 87, dtype: int64\n",
      "CPU times: user 33.5 s, sys: 3.76 s, total: 37.2 s\n",
      "Wall time: 38.6 s\n"
     ]
    }
   ],
   "source": [
    "%%time\n",
    "column = ['lat_max']\n",
    "combined_df_value = pd.read_csv(\"combined_df.csv\", usecols=column)\n",
    "print(combined_df_value.value_counts())"
   ]
  },
  {
   "cell_type": "markdown",
   "id": "d06b1bf0-c72e-4e77-b1df-7e8f516fb223",
   "metadata": {},
   "source": [
    "#### 3.3.1 Time taken to load the dataset"
   ]
  },
  {
   "cell_type": "markdown",
   "id": "3c9dd9cf-7cab-4ec5-9e84-b6592cee4733",
   "metadata": {},
   "source": [
    "| Team Member | Operating System | RAM | Processor | Is SSD | Time taken |\n",
    "|:-----------:|:----------------:|:---:|:---------:|:------:|:----------:|\n",
    "| Ruben       |       MacOS      |  8  |    M1     |   Yes  |  29s       |\n",
    "| Jacqueline  |       MacOS      |  8  |IntelCorei5|   Yes  |  38.6s     |\n",
    "| Kyle        |       Windows 10 |  16 |Intelcorei7|   Yes  |  2min 36s  |\n",
    "| Sanchit     |       MacOS      |  8  |    M1     |   Yes  |  26s       |"
   ]
  },
  {
   "cell_type": "markdown",
   "id": "cedd086c-106f-4422-8a0b-3379673480ff",
   "metadata": {},
   "source": [
    "#### 3.3.2 Observations"
   ]
  },
  {
   "cell_type": "markdown",
   "id": "06437ed8-f3e4-4bd5-b83b-2e79cad316be",
   "metadata": {},
   "source": [
    "Overall, loading only one column is significantly faster than loading in the entire data set. Compared to loading one column compared to 7 columns (baseline), it took one third the duration, regardless of computer. \n",
    "\n",
    "We will not be comparing between different OS as there is a recurrent theme that there might be something wrong with Kyle's computer. It might be due to hardware failure or that his hard drive may be full, but these are just speculations. \n",
    "\n",
    "Comparing between the different processors for the MacOS, the M1 chip performs at 1.5 times the speed compared to the IntelCorei5 chip.\n",
    "\n",
    "**However, this is not a feasible solution as it is not scalable. Performing this task for all columns in a loop will only add to the total time.**"
   ]
  },
  {
   "cell_type": "markdown",
   "id": "9fdc3a4c-fb20-4389-9f3c-27dac62b3162",
   "metadata": {},
   "source": [
    "### 3.4 EDA using combined_df file"
   ]
  },
  {
   "cell_type": "code",
   "execution_count": 11,
   "id": "d6273dc8-288a-429e-b4d4-5821455240d2",
   "metadata": {},
   "outputs": [
    {
     "name": "stdout",
     "output_type": "stream",
     "text": [
      "CPU times: user 13.5 s, sys: 9.43 s, total: 22.9 s\n",
      "Wall time: 26.9 s\n"
     ]
    },
    {
     "data": {
      "text/html": [
       "<div>\n",
       "<style scoped>\n",
       "    .dataframe tbody tr th:only-of-type {\n",
       "        vertical-align: middle;\n",
       "    }\n",
       "\n",
       "    .dataframe tbody tr th {\n",
       "        vertical-align: top;\n",
       "    }\n",
       "\n",
       "    .dataframe thead th {\n",
       "        text-align: right;\n",
       "    }\n",
       "</style>\n",
       "<table border=\"1\" class=\"dataframe\">\n",
       "  <thead>\n",
       "    <tr style=\"text-align: right;\">\n",
       "      <th></th>\n",
       "      <th>Unnamed: 0</th>\n",
       "      <th>lat_min</th>\n",
       "      <th>lat_max</th>\n",
       "      <th>lon_min</th>\n",
       "      <th>lon_max</th>\n",
       "      <th>rain (mm/day)</th>\n",
       "    </tr>\n",
       "  </thead>\n",
       "  <tbody>\n",
       "    <tr>\n",
       "      <th>count</th>\n",
       "      <td>6.246784e+07</td>\n",
       "      <td>5.924854e+07</td>\n",
       "      <td>6.246784e+07</td>\n",
       "      <td>5.924854e+07</td>\n",
       "      <td>6.246784e+07</td>\n",
       "      <td>5.924854e+07</td>\n",
       "    </tr>\n",
       "    <tr>\n",
       "      <th>mean</th>\n",
       "      <td>3.123392e+07</td>\n",
       "      <td>-3.310482e+01</td>\n",
       "      <td>-3.197757e+01</td>\n",
       "      <td>1.469059e+02</td>\n",
       "      <td>1.482150e+02</td>\n",
       "      <td>1.901170e+00</td>\n",
       "    </tr>\n",
       "    <tr>\n",
       "      <th>std</th>\n",
       "      <td>1.803291e+07</td>\n",
       "      <td>1.963549e+00</td>\n",
       "      <td>1.992067e+00</td>\n",
       "      <td>3.793784e+00</td>\n",
       "      <td>3.809994e+00</td>\n",
       "      <td>5.585735e+00</td>\n",
       "    </tr>\n",
       "    <tr>\n",
       "      <th>min</th>\n",
       "      <td>0.000000e+00</td>\n",
       "      <td>-3.646739e+01</td>\n",
       "      <td>-3.600000e+01</td>\n",
       "      <td>1.406250e+02</td>\n",
       "      <td>1.412500e+02</td>\n",
       "      <td>-3.807373e-12</td>\n",
       "    </tr>\n",
       "    <tr>\n",
       "      <th>25%</th>\n",
       "      <td>1.561696e+07</td>\n",
       "      <td>-3.486911e+01</td>\n",
       "      <td>-3.366221e+01</td>\n",
       "      <td>1.434375e+02</td>\n",
       "      <td>1.450000e+02</td>\n",
       "      <td>3.838413e-06</td>\n",
       "    </tr>\n",
       "    <tr>\n",
       "      <th>50%</th>\n",
       "      <td>3.123392e+07</td>\n",
       "      <td>-3.300000e+01</td>\n",
       "      <td>-3.204188e+01</td>\n",
       "      <td>1.468750e+02</td>\n",
       "      <td>1.481250e+02</td>\n",
       "      <td>6.154947e-02</td>\n",
       "    </tr>\n",
       "    <tr>\n",
       "      <th>75%</th>\n",
       "      <td>4.685088e+07</td>\n",
       "      <td>-3.140170e+01</td>\n",
       "      <td>-3.015707e+01</td>\n",
       "      <td>1.501875e+02</td>\n",
       "      <td>1.513125e+02</td>\n",
       "      <td>1.020918e+00</td>\n",
       "    </tr>\n",
       "    <tr>\n",
       "      <th>max</th>\n",
       "      <td>6.246784e+07</td>\n",
       "      <td>-2.990000e+01</td>\n",
       "      <td>-2.790606e+01</td>\n",
       "      <td>1.537500e+02</td>\n",
       "      <td>1.556250e+02</td>\n",
       "      <td>4.329395e+02</td>\n",
       "    </tr>\n",
       "  </tbody>\n",
       "</table>\n",
       "</div>"
      ],
      "text/plain": [
       "         Unnamed: 0       lat_min       lat_max       lon_min       lon_max  \\\n",
       "count  6.246784e+07  5.924854e+07  6.246784e+07  5.924854e+07  6.246784e+07   \n",
       "mean   3.123392e+07 -3.310482e+01 -3.197757e+01  1.469059e+02  1.482150e+02   \n",
       "std    1.803291e+07  1.963549e+00  1.992067e+00  3.793784e+00  3.809994e+00   \n",
       "min    0.000000e+00 -3.646739e+01 -3.600000e+01  1.406250e+02  1.412500e+02   \n",
       "25%    1.561696e+07 -3.486911e+01 -3.366221e+01  1.434375e+02  1.450000e+02   \n",
       "50%    3.123392e+07 -3.300000e+01 -3.204188e+01  1.468750e+02  1.481250e+02   \n",
       "75%    4.685088e+07 -3.140170e+01 -3.015707e+01  1.501875e+02  1.513125e+02   \n",
       "max    6.246784e+07 -2.990000e+01 -2.790606e+01  1.537500e+02  1.556250e+02   \n",
       "\n",
       "       rain (mm/day)  \n",
       "count   5.924854e+07  \n",
       "mean    1.901170e+00  \n",
       "std     5.585735e+00  \n",
       "min    -3.807373e-12  \n",
       "25%     3.838413e-06  \n",
       "50%     6.154947e-02  \n",
       "75%     1.020918e+00  \n",
       "max     4.329395e+02  "
      ]
     },
     "execution_count": 11,
     "metadata": {},
     "output_type": "execute_result"
    }
   ],
   "source": [
    "%%time\n",
    "combined_df.describe()"
   ]
  },
  {
   "cell_type": "markdown",
   "id": "69d52b5e-3c90-4426-882b-f701e632768a",
   "metadata": {},
   "source": [
    "#### 3.4.1 Time taken to run .describe()"
   ]
  },
  {
   "cell_type": "markdown",
   "id": "aa133870-ae47-4485-97dc-36f0ab91ea25",
   "metadata": {},
   "source": [
    "| Team Member | Operating System | RAM | Processor | Is SSD | Time taken |\n",
    "|:-----------:|:----------------:|:---:|:---------:|:------:|:----------:|\n",
    "| Ruben       |       MacOS      |  8  |    M1     |   Yes  |  13s       |\n",
    "| Jacqueline  |       MacOS      |  8  |IntelCorei5|   Yes  |  26.9s       |\n",
    "| Kyle        |       Windows 10 |  16 |Intelcorei7|   Yes  |  35s  |\n",
    "| Sanchit     |       MacOS      |  8  |    M1     |   Yes  |  14s       |"
   ]
  },
  {
   "cell_type": "markdown",
   "id": "e09a118a-8de4-430b-81eb-bc5d9664b085",
   "metadata": {},
   "source": [
    "#### 3.4.2 Observations"
   ]
  },
  {
   "cell_type": "markdown",
   "id": "bd316478-cf1e-46d8-a8ad-f0cf8fa9ccbf",
   "metadata": {},
   "source": [
    "This is a clear instance where the processor made a significant difference. The M1 chip compared to the i5/i7 chip took less than half the time to run this line of code. \n",
    "\n"
   ]
  },
  {
   "cell_type": "markdown",
   "id": "c8f7284e-3fff-48be-b3c3-a0fc63aa76fd",
   "metadata": {},
   "source": [
    "## 4. R EDA"
   ]
  },
  {
   "cell_type": "markdown",
   "id": "538c99c2-f7d3-467c-b532-1ad225dc22b3",
   "metadata": {
    "tags": []
   },
   "source": [
    "### 4.1 Parquet file"
   ]
  },
  {
   "cell_type": "code",
   "execution_count": 12,
   "id": "eb42ae7f-ba75-404a-a9c3-a0cfb08448d8",
   "metadata": {
    "tags": []
   },
   "outputs": [],
   "source": [
    "%load_ext rpy2.ipython"
   ]
  },
  {
   "cell_type": "code",
   "execution_count": 13,
   "id": "08ee5eab-6270-4a08-85a0-d80eb76c61b2",
   "metadata": {
    "tags": []
   },
   "outputs": [
    {
     "name": "stdout",
     "output_type": "stream",
     "text": [
      "CPU times: user 24.2 s, sys: 20.2 s, total: 44.4 s\n",
      "Wall time: 55.5 s\n"
     ]
    }
   ],
   "source": [
    "%%time\n",
    "combined_df.to_parquet(\"rainfallNSW/combined_data.parquet\")"
   ]
  },
  {
   "cell_type": "code",
   "execution_count": 14,
   "id": "6d5fd505-cf3a-47b2-980f-96cde441eea7",
   "metadata": {
    "tags": []
   },
   "outputs": [],
   "source": [
    "%%R\n",
    "suppressMessages(library(data.table))\n",
    "suppressMessages(library(dplyr, warn.conflicts = FALSE))\n",
    "suppressMessages(library(arrow, warn.conflicts = FALSE))"
   ]
  },
  {
   "cell_type": "code",
   "execution_count": 15,
   "id": "e2bb6662-14a6-4ea1-af78-610b54438ac1",
   "metadata": {
    "tags": []
   },
   "outputs": [],
   "source": [
    "%%R\n",
    "r_parquet <- open_dataset(\"rainfallNSW/combined_data.parquet\")\n",
    "r_df <- r_parquet |> collect()"
   ]
  },
  {
   "cell_type": "markdown",
   "id": "4112b4c1-4ad4-432d-a4ee-4d7516a23a14",
   "metadata": {
    "tags": []
   },
   "source": [
    "> We decided to use a Parquet file to transfer our data frame for several reasons.\n",
    "> 1. **Time:** This approach allows for the quickest and most convenient recovery in the event that we have to restart the kernel or the notebook crashes. Essentially this us to pick up where we left off without having to repeat the earlier steps in python.\n",
    "> 2. **Flexibility**: Parquet allows us to easily read our data into many different languages without needing to know the interactions between said languages. Furthermore we can save time and memory by using partitioning to read in only what is needed, rather than loading the entire data frame into memory and then filtering it.\n",
    "> 3. **Memory**: Having consolidated our data into a parquet file we no longer need to keep our original CSV files. This essentially allows us to store the same information with a fraction of the memory requirement, in a format that is arguably more desirable than CSV.\n",
    ">  \n",
    "> - We did experiment with Arrow Exchange before ultimately deciding to use Parquet. Arrow Exchange code is commented out at the bottom of the notebook"
   ]
  },
  {
   "cell_type": "markdown",
   "id": "8e50c278-cb5e-455a-bc2c-9e4601a8d843",
   "metadata": {
    "tags": []
   },
   "source": [
    "#### 4.1.1 EDA using Parquet file"
   ]
  },
  {
   "cell_type": "code",
   "execution_count": 16,
   "id": "f0827d19-d6de-4eee-9514-d21116ff94ff",
   "metadata": {
    "tags": []
   },
   "outputs": [
    {
     "name": "stdout",
     "output_type": "stream",
     "text": [
      "tibble [62,467,843 × 8] (S3: tbl_df/tbl/data.frame)\n",
      " $ Unnamed: 0   : int [1:62467843] 0 1 2 3 4 5 6 7 8 9 ...\n",
      " $ time         : chr [1:62467843] \"1889-01-01 12:00:00\" \"1889-01-02 12:00:00\" \"1889-01-03 12:00:00\" \"1889-01-04 12:00:00\" ...\n",
      " $ lat_min      : num [1:62467843] -35.4 -35.4 -35.4 -35.4 -35.4 ...\n",
      " $ lat_max      : num [1:62467843] -33.6 -33.6 -33.6 -33.6 -33.6 ...\n",
      " $ lon_min      : num [1:62467843] 142 142 142 142 142 ...\n",
      " $ lon_max      : num [1:62467843] 143 143 143 143 143 ...\n",
      " $ rain (mm/day): num [1:62467843] 4.24e-13 4.22e-13 4.50e-13 4.25e-13 4.27e-13 ...\n",
      " $ model        : chr [1:62467843] \"MPI-ESM-1-2-HAM\" \"MPI-ESM-1-2-HAM\" \"MPI-ESM-1-2-HAM\" \"MPI-ESM-1-2-HAM\" ...\n",
      "CPU times: user 93.4 ms, sys: 38.2 ms, total: 132 ms\n",
      "Wall time: 256 ms\n"
     ]
    }
   ],
   "source": [
    "%%time\n",
    "%%R\n",
    "r_df |> str()"
   ]
  },
  {
   "cell_type": "code",
   "execution_count": 17,
   "id": "8a6caa71-cd94-4e61-9599-8a08d2639e49",
   "metadata": {
    "tags": []
   },
   "outputs": [
    {
     "name": "stdout",
     "output_type": "stream",
     "text": [
      "# A tibble: 6 × 8\n",
      "  `Unnamed: 0` time        lat_min lat_max lon_min lon_max `rain (mm/day)` model\n",
      "         <int> <chr>         <dbl>   <dbl>   <dbl>   <dbl>           <dbl> <chr>\n",
      "1            0 1889-01-01…   -35.4   -33.6    142.    143.        4.24e-13 MPI-…\n",
      "2            1 1889-01-02…   -35.4   -33.6    142.    143.        4.22e-13 MPI-…\n",
      "3            2 1889-01-03…   -35.4   -33.6    142.    143.        4.50e-13 MPI-…\n",
      "4            3 1889-01-04…   -35.4   -33.6    142.    143.        4.25e-13 MPI-…\n",
      "5            4 1889-01-05…   -35.4   -33.6    142.    143.        4.27e-13 MPI-…\n",
      "6            5 1889-01-06…   -35.4   -33.6    142.    143.        4.20e-13 MPI-…\n",
      "CPU times: user 13.2 s, sys: 7.32 s, total: 20.5 s\n",
      "Wall time: 24 s\n"
     ]
    }
   ],
   "source": [
    "%%time\n",
    "%%R\n",
    "r_df |> head()"
   ]
  },
  {
   "cell_type": "code",
   "execution_count": 18,
   "id": "3de1310a-f545-4ac7-a0e7-579dc619bffc",
   "metadata": {
    "tags": []
   },
   "outputs": [
    {
     "name": "stdout",
     "output_type": "stream",
     "text": [
      "   Unnamed: 0           time              lat_min           lat_max      \n",
      " Min.   :       0   Length:62467843    Min.   :-36       Min.   :-36.00  \n",
      " 1st Qu.:15616960   Class :character   1st Qu.:-35       1st Qu.:-33.66  \n",
      " Median :31233921   Mode  :character   Median :-33       Median :-32.04  \n",
      " Mean   :31233921                      Mean   :-33       Mean   :-31.98  \n",
      " 3rd Qu.:46850882                      3rd Qu.:-31       3rd Qu.:-30.16  \n",
      " Max.   :62467842                      Max.   :-30       Max.   :-27.91  \n",
      "                                       NA's   :3219300                   \n",
      "    lon_min           lon_max      rain (mm/day)        model          \n",
      " Min.   :141       Min.   :141.2   Min.   :  0       Length:62467843   \n",
      " 1st Qu.:143       1st Qu.:145.0   1st Qu.:  0       Class :character  \n",
      " Median :147       Median :148.1   Median :  0       Mode  :character  \n",
      " Mean   :147       Mean   :148.2   Mean   :  2                         \n",
      " 3rd Qu.:150       3rd Qu.:151.3   3rd Qu.:  1                         \n",
      " Max.   :154       Max.   :155.6   Max.   :433                         \n",
      " NA's   :3219300                   NA's   :3219300                     \n",
      "CPU times: user 5min 10s, sys: 15.2 s, total: 5min 26s\n",
      "Wall time: 5min 34s\n"
     ]
    }
   ],
   "source": [
    "%%time\n",
    "%%R\n",
    "r_df |> summary()"
   ]
  },
  {
   "cell_type": "markdown",
   "id": "0ffe5f9c-4fa4-4cab-959e-4673a847226e",
   "metadata": {
    "tags": []
   },
   "source": [
    "### 4.2 Arrow Exchange"
   ]
  },
  {
   "cell_type": "code",
   "execution_count": 19,
   "id": "9b316f47-3a10-4570-901e-5e0b24a2b4ed",
   "metadata": {
    "tags": []
   },
   "outputs": [],
   "source": [
    "#import pyarrow as pa\n",
    "#import pyarrow \n",
    "#from pyarrow import csv\n",
    "#import rpy2_arrow.pyarrow_rarrow as pyra"
   ]
  },
  {
   "cell_type": "code",
   "execution_count": 20,
   "id": "21149b92-e386-4e53-aeb1-90c0373998ae",
   "metadata": {
    "tags": []
   },
   "outputs": [],
   "source": [
    "#pyarrow_table = pa.Table.from_pandas(combined_df)\n",
    "#r_table = pyra.converter.py2rpy(pyarrow_table)"
   ]
  },
  {
   "cell_type": "code",
   "execution_count": 21,
   "id": "23937a49-8c8e-440e-b7fa-8e6a7c81d3c7",
   "metadata": {
    "tags": []
   },
   "outputs": [],
   "source": [
    "#%%time\n",
    "#%%R -i r_table\n",
    "#suppressMessages(library(arrow, warn.conflicts = FALSE))\n",
    "#suppressMessages(library(dplyr, warn.conflicts = FALSE))\n",
    "#r_df <- r_table |> collect()"
   ]
  }
 ],
 "metadata": {
  "kernelspec": {
   "display_name": "Python 3 (ipykernel)",
   "language": "python",
   "name": "python3"
  },
  "language_info": {
   "codemirror_mode": {
    "name": "ipython",
    "version": 3
   },
   "file_extension": ".py",
   "mimetype": "text/x-python",
   "name": "python",
   "nbconvert_exporter": "python",
   "pygments_lexer": "ipython3",
   "version": "3.9.5"
  }
 },
 "nbformat": 4,
 "nbformat_minor": 5
}
