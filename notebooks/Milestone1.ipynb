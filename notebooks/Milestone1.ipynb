{
 "cells": [
  {
   "cell_type": "markdown",
   "id": "ea5e7203-ff95-42ed-9024-7e8b60eef2d5",
   "metadata": {},
   "source": [
    "# Milestone 1"
   ]
  },
  {
   "cell_type": "markdown",
   "id": "c511da80-850d-4242-b784-beaf77368acf",
   "metadata": {},
   "source": [
    "In this milestone, we will be reading in the data via Pandas."
   ]
  },
  {
   "cell_type": "markdown",
   "id": "388d4023-2ab5-44ac-896f-a7b40a96e0dd",
   "metadata": {},
   "source": [
    "## 1. Downloading the data"
   ]
  },
  {
   "cell_type": "code",
   "execution_count": 3,
   "id": "e9c8612a-4878-4a70-85c2-1e14884667d7",
   "metadata": {
    "tags": []
   },
   "outputs": [],
   "source": [
    "import re\n",
    "import os\n",
    "import glob\n",
    "import zipfile\n",
    "import requests\n",
    "from urllib.request import urlretrieve\n",
    "import json\n",
    "import pandas as pd"
   ]
  },
  {
   "cell_type": "code",
   "execution_count": 4,
   "id": "a740614f-7443-47fc-9042-953518e60fd5",
   "metadata": {},
   "outputs": [],
   "source": [
    "# Necessary metadata\n",
    "article_id = 14096681\n",
    "url = f\"https://api.figshare.com/v2/articles/{article_id}\"\n",
    "headers = {\"Content-Type\": \"application/json\"}\n",
    "output_directory = \"rainfallNSW/\""
   ]
  },
  {
   "cell_type": "code",
   "execution_count": 5,
   "id": "ae6864e0-d324-4240-bc93-6b681bc68275",
   "metadata": {},
   "outputs": [
    {
     "data": {
      "text/plain": [
       "[{'id': 26579150,\n",
       "  'name': 'daily_rainfall_2014.png',\n",
       "  'size': 58863,\n",
       "  'is_link_only': False,\n",
       "  'download_url': 'https://ndownloader.figshare.com/files/26579150',\n",
       "  'supplied_md5': 'fd32a2ffde300a31f8d63b1825d47e5e',\n",
       "  'computed_md5': 'fd32a2ffde300a31f8d63b1825d47e5e'},\n",
       " {'id': 26579171,\n",
       "  'name': 'environment.yml',\n",
       "  'size': 192,\n",
       "  'is_link_only': False,\n",
       "  'download_url': 'https://ndownloader.figshare.com/files/26579171',\n",
       "  'supplied_md5': '060b2020017eed93a1ee7dd8c65b2f34',\n",
       "  'computed_md5': '060b2020017eed93a1ee7dd8c65b2f34'},\n",
       " {'id': 26586554,\n",
       "  'name': 'README.md',\n",
       "  'size': 5422,\n",
       "  'is_link_only': False,\n",
       "  'download_url': 'https://ndownloader.figshare.com/files/26586554',\n",
       "  'supplied_md5': '61858c6cc0e6a6d6663a7e4c75bbd88c',\n",
       "  'computed_md5': '61858c6cc0e6a6d6663a7e4c75bbd88c'},\n",
       " {'id': 26766812,\n",
       "  'name': 'data.zip',\n",
       "  'size': 814041183,\n",
       "  'is_link_only': False,\n",
       "  'download_url': 'https://ndownloader.figshare.com/files/26766812',\n",
       "  'supplied_md5': 'b517383f76e77bd03755a63a8ff83ee9',\n",
       "  'computed_md5': 'b517383f76e77bd03755a63a8ff83ee9'},\n",
       " {'id': 26766815,\n",
       "  'name': 'get_data.py',\n",
       "  'size': 4113,\n",
       "  'is_link_only': False,\n",
       "  'download_url': 'https://ndownloader.figshare.com/files/26766815',\n",
       "  'supplied_md5': '7829028495fd9dec9680ea013474afa6',\n",
       "  'computed_md5': '7829028495fd9dec9680ea013474afa6'}]"
      ]
     },
     "execution_count": 5,
     "metadata": {},
     "output_type": "execute_result"
    }
   ],
   "source": [
    "response = requests.request(\"GET\", url, headers=headers)\n",
    "data = json.loads(response.text)  # this contains all the articles data, feel free to check it out\n",
    "files = data[\"files\"]             # this is just the data about the files, which is what we want\n",
    "files"
   ]
  },
  {
   "cell_type": "code",
   "execution_count": 6,
   "id": "2dea584d-70ab-4a82-afdf-34800d49bac7",
   "metadata": {},
   "outputs": [],
   "source": [
    "files_to_dl = [\"data.zip\"]  # feel free to add other files here\n",
    "for file in files:\n",
    "    if file[\"name\"] in files_to_dl:\n",
    "        os.makedirs(output_directory, exist_ok=True)\n",
    "        urlretrieve(file[\"download_url\"], output_directory + file[\"name\"])"
   ]
  },
  {
   "cell_type": "code",
   "execution_count": 7,
   "id": "767360e4-0963-4f65-bb5a-02b1438f5e85",
   "metadata": {},
   "outputs": [],
   "source": [
    "with zipfile.ZipFile(os.path.join(output_directory, \"data.zip\"), 'r') as f:\n",
    "    f.extractall(output_directory)"
   ]
  },
  {
   "cell_type": "markdown",
   "id": "e3a83481-02be-4abb-9de9-84cd73e8d322",
   "metadata": {},
   "source": [
    "## 2. Combining the data"
   ]
  },
  {
   "cell_type": "code",
   "execution_count": 8,
   "id": "e9f2aa00-91a0-4b04-8b78-2059379d1ad1",
   "metadata": {},
   "outputs": [
    {
     "name": "stdout",
     "output_type": "stream",
     "text": [
      "CPU times: user 35.1 s, sys: 5.57 s, total: 40.7 s\n",
      "Wall time: 44.8 s\n"
     ]
    },
    {
     "data": {
      "text/html": [
       "<div>\n",
       "<style scoped>\n",
       "    .dataframe tbody tr th:only-of-type {\n",
       "        vertical-align: middle;\n",
       "    }\n",
       "\n",
       "    .dataframe tbody tr th {\n",
       "        vertical-align: top;\n",
       "    }\n",
       "\n",
       "    .dataframe thead th {\n",
       "        text-align: right;\n",
       "    }\n",
       "</style>\n",
       "<table border=\"1\" class=\"dataframe\">\n",
       "  <thead>\n",
       "    <tr style=\"text-align: right;\">\n",
       "      <th></th>\n",
       "      <th>time</th>\n",
       "      <th>lat_min</th>\n",
       "      <th>lat_max</th>\n",
       "      <th>lon_min</th>\n",
       "      <th>lon_max</th>\n",
       "      <th>rain (mm/day)</th>\n",
       "      <th>model</th>\n",
       "    </tr>\n",
       "  </thead>\n",
       "  <tbody>\n",
       "    <tr>\n",
       "      <th>0</th>\n",
       "      <td>1889-01-01 12:00:00</td>\n",
       "      <td>-35.439867</td>\n",
       "      <td>-33.574619</td>\n",
       "      <td>141.5625</td>\n",
       "      <td>143.4375</td>\n",
       "      <td>4.244226e-13</td>\n",
       "      <td>MPI-ESM-1-2-HAM</td>\n",
       "    </tr>\n",
       "    <tr>\n",
       "      <th>1</th>\n",
       "      <td>1889-01-02 12:00:00</td>\n",
       "      <td>-35.439867</td>\n",
       "      <td>-33.574619</td>\n",
       "      <td>141.5625</td>\n",
       "      <td>143.4375</td>\n",
       "      <td>4.217326e-13</td>\n",
       "      <td>MPI-ESM-1-2-HAM</td>\n",
       "    </tr>\n",
       "    <tr>\n",
       "      <th>2</th>\n",
       "      <td>1889-01-03 12:00:00</td>\n",
       "      <td>-35.439867</td>\n",
       "      <td>-33.574619</td>\n",
       "      <td>141.5625</td>\n",
       "      <td>143.4375</td>\n",
       "      <td>4.498125e-13</td>\n",
       "      <td>MPI-ESM-1-2-HAM</td>\n",
       "    </tr>\n",
       "    <tr>\n",
       "      <th>3</th>\n",
       "      <td>1889-01-04 12:00:00</td>\n",
       "      <td>-35.439867</td>\n",
       "      <td>-33.574619</td>\n",
       "      <td>141.5625</td>\n",
       "      <td>143.4375</td>\n",
       "      <td>4.251282e-13</td>\n",
       "      <td>MPI-ESM-1-2-HAM</td>\n",
       "    </tr>\n",
       "    <tr>\n",
       "      <th>4</th>\n",
       "      <td>1889-01-05 12:00:00</td>\n",
       "      <td>-35.439867</td>\n",
       "      <td>-33.574619</td>\n",
       "      <td>141.5625</td>\n",
       "      <td>143.4375</td>\n",
       "      <td>4.270161e-13</td>\n",
       "      <td>MPI-ESM-1-2-HAM</td>\n",
       "    </tr>\n",
       "    <tr>\n",
       "      <th>...</th>\n",
       "      <td>...</td>\n",
       "      <td>...</td>\n",
       "      <td>...</td>\n",
       "      <td>...</td>\n",
       "      <td>...</td>\n",
       "      <td>...</td>\n",
       "      <td>...</td>\n",
       "    </tr>\n",
       "    <tr>\n",
       "      <th>62467838</th>\n",
       "      <td>2014-12-27 12:00:00</td>\n",
       "      <td>-30.157068</td>\n",
       "      <td>-29.214660</td>\n",
       "      <td>153.1250</td>\n",
       "      <td>154.3750</td>\n",
       "      <td>6.689683e+00</td>\n",
       "      <td>SAM0-UNICON</td>\n",
       "    </tr>\n",
       "    <tr>\n",
       "      <th>62467839</th>\n",
       "      <td>2014-12-28 12:00:00</td>\n",
       "      <td>-30.157068</td>\n",
       "      <td>-29.214660</td>\n",
       "      <td>153.1250</td>\n",
       "      <td>154.3750</td>\n",
       "      <td>7.862555e+00</td>\n",
       "      <td>SAM0-UNICON</td>\n",
       "    </tr>\n",
       "    <tr>\n",
       "      <th>62467840</th>\n",
       "      <td>2014-12-29 12:00:00</td>\n",
       "      <td>-30.157068</td>\n",
       "      <td>-29.214660</td>\n",
       "      <td>153.1250</td>\n",
       "      <td>154.3750</td>\n",
       "      <td>1.000503e+01</td>\n",
       "      <td>SAM0-UNICON</td>\n",
       "    </tr>\n",
       "    <tr>\n",
       "      <th>62467841</th>\n",
       "      <td>2014-12-30 12:00:00</td>\n",
       "      <td>-30.157068</td>\n",
       "      <td>-29.214660</td>\n",
       "      <td>153.1250</td>\n",
       "      <td>154.3750</td>\n",
       "      <td>8.541592e+00</td>\n",
       "      <td>SAM0-UNICON</td>\n",
       "    </tr>\n",
       "    <tr>\n",
       "      <th>62467842</th>\n",
       "      <td>2014-12-31 12:00:00</td>\n",
       "      <td>-30.157068</td>\n",
       "      <td>-29.214660</td>\n",
       "      <td>153.1250</td>\n",
       "      <td>154.3750</td>\n",
       "      <td>6.811749e+01</td>\n",
       "      <td>SAM0-UNICON</td>\n",
       "    </tr>\n",
       "  </tbody>\n",
       "</table>\n",
       "<p>62467843 rows × 7 columns</p>\n",
       "</div>"
      ],
      "text/plain": [
       "                         time    lat_min    lat_max   lon_min   lon_max  \\\n",
       "0         1889-01-01 12:00:00 -35.439867 -33.574619  141.5625  143.4375   \n",
       "1         1889-01-02 12:00:00 -35.439867 -33.574619  141.5625  143.4375   \n",
       "2         1889-01-03 12:00:00 -35.439867 -33.574619  141.5625  143.4375   \n",
       "3         1889-01-04 12:00:00 -35.439867 -33.574619  141.5625  143.4375   \n",
       "4         1889-01-05 12:00:00 -35.439867 -33.574619  141.5625  143.4375   \n",
       "...                       ...        ...        ...       ...       ...   \n",
       "62467838  2014-12-27 12:00:00 -30.157068 -29.214660  153.1250  154.3750   \n",
       "62467839  2014-12-28 12:00:00 -30.157068 -29.214660  153.1250  154.3750   \n",
       "62467840  2014-12-29 12:00:00 -30.157068 -29.214660  153.1250  154.3750   \n",
       "62467841  2014-12-30 12:00:00 -30.157068 -29.214660  153.1250  154.3750   \n",
       "62467842  2014-12-31 12:00:00 -30.157068 -29.214660  153.1250  154.3750   \n",
       "\n",
       "          rain (mm/day)            model  \n",
       "0          4.244226e-13  MPI-ESM-1-2-HAM  \n",
       "1          4.217326e-13  MPI-ESM-1-2-HAM  \n",
       "2          4.498125e-13  MPI-ESM-1-2-HAM  \n",
       "3          4.251282e-13  MPI-ESM-1-2-HAM  \n",
       "4          4.270161e-13  MPI-ESM-1-2-HAM  \n",
       "...                 ...              ...  \n",
       "62467838   6.689683e+00      SAM0-UNICON  \n",
       "62467839   7.862555e+00      SAM0-UNICON  \n",
       "62467840   1.000503e+01      SAM0-UNICON  \n",
       "62467841   8.541592e+00      SAM0-UNICON  \n",
       "62467842   6.811749e+01      SAM0-UNICON  \n",
       "\n",
       "[62467843 rows x 7 columns]"
      ]
     },
     "execution_count": 8,
     "metadata": {},
     "output_type": "execute_result"
    }
   ],
   "source": [
    "%%time\n",
    "import pandas as pd\n",
    "\n",
    "path = r'rainfallNSW' # use your path\n",
    "all_files = glob.glob(path + \"/*.csv\")\n",
    "all_files.remove(path + \"/observed_daily_rainfall_SYD.csv\")\n",
    "li = []\n",
    "\n",
    "for filename in all_files:\n",
    "    df = pd.read_csv(filename, index_col=None, header=0)\n",
    "    df['model'] = filename[12:-23]\n",
    "    li.append(df)\n",
    "\n",
    "combined_df = pd.concat(li, axis=0, ignore_index=True)\n",
    "combined_df"
   ]
  },
  {
   "cell_type": "markdown",
   "id": "fb3a4b10-266e-4d9e-87a2-ca1771e63887",
   "metadata": {},
   "source": [
    "**Saving combined csv**"
   ]
  },
  {
   "cell_type": "code",
   "execution_count": 13,
   "id": "5cc91427-f74c-43c7-a098-5c6feeefe79c",
   "metadata": {},
   "outputs": [],
   "source": [
    "combined_df.to_csv(\"combined_data.csv\")"
   ]
  },
  {
   "cell_type": "markdown",
   "id": "18b06057-76bc-4dd4-a0a5-3d033e51b2cb",
   "metadata": {},
   "source": [
    "## 3. Time taken to combine CSV file"
   ]
  },
  {
   "cell_type": "markdown",
   "id": "6b448b97-fec1-4ebf-ad91-d5f5583f9e67",
   "metadata": {},
   "source": [
    "| Team Member | Operating System | RAM | Processor | Is SSD | Time taken |\n",
    "|:-----------:|:----------------:|:---:|:---------:|:------:|:----------:|\n",
    "| Ruben       |       MacOS      |  8  |    M1     |   Yes  |            |\n",
    "| Jacqueline  |       MacOS      |  8  |IntelCorei5|   Yes  |  1min 8s   |\n",
    "| Kyle        |                  |     |           |        |            |\n",
    "| Sanchit     |       MacOS      |  8  |    M1     |   Yes  |  40s       |"
   ]
  },
  {
   "cell_type": "markdown",
   "id": "cf0eb65c-9baa-475e-9b8c-c21d1ea46500",
   "metadata": {},
   "source": [
    "### 3.1 Observations"
   ]
  },
  {
   "cell_type": "markdown",
   "id": "9f06d725-b4bb-449b-93ab-644974677b9f",
   "metadata": {},
   "source": [
    "TO BE FILLED IN ... "
   ]
  },
  {
   "cell_type": "markdown",
   "id": "f3b37002-4974-4fd5-ab54-f271dc337936",
   "metadata": {},
   "source": [
    "## 4. Loading CSV and Exploratory Data Analysis"
   ]
  },
  {
   "cell_type": "markdown",
   "id": "fff93076-6288-44f7-b1a3-1f71679a258b",
   "metadata": {},
   "source": [
    "We will try out the following approaches to reduce run time and memory usage when performing a simple EDA for predicting the daily rainfall in Australia. \n",
    "\n",
    "The first approach we are taking is to change dtype of the data and the second approach is to only load 1 column and see it's effect on the run time.\n",
    "\n",
    "We will run the above tasks and note down the run time in each members PC. "
   ]
  },
  {
   "cell_type": "markdown",
   "id": "baa64006-3fed-4da8-a0f2-050b2281aa77",
   "metadata": {},
   "source": [
    "**Comparing the run times for loading the csv**"
   ]
  },
  {
   "cell_type": "code",
   "execution_count": 14,
   "id": "6f2446c0-9edb-403d-8551-b46f41fff2c2",
   "metadata": {},
   "outputs": [
    {
     "name": "stdout",
     "output_type": "stream",
     "text": [
      "<class 'pandas.core.frame.DataFrame'>\n",
      "RangeIndex: 62467843 entries, 0 to 62467842\n",
      "Data columns (total 8 columns):\n",
      " #   Column         Dtype  \n",
      "---  ------         -----  \n",
      " 0   Unnamed: 0     int64  \n",
      " 1   time           object \n",
      " 2   lat_min        float64\n",
      " 3   lat_max        float64\n",
      " 4   lon_min        float64\n",
      " 5   lon_max        float64\n",
      " 6   rain (mm/day)  float64\n",
      " 7   model          object \n",
      "dtypes: float64(5), int64(1), object(2)\n",
      "memory usage: 3.7+ GB\n",
      "CPU times: user 46.2 s, sys: 16.7 s, total: 1min 2s\n",
      "Wall time: 1min 32s\n"
     ]
    }
   ],
   "source": [
    "%%time\n",
    "df = pd.read_csv(\"combined_data.csv\")\n",
    "df.info()"
   ]
  },
  {
   "cell_type": "markdown",
   "id": "6efceb04-92d4-4592-9154-4f584d8816db",
   "metadata": {},
   "source": [
    "### Time taken to load the dataset"
   ]
  },
  {
   "cell_type": "markdown",
   "id": "b9c16b74-1a16-4960-b875-f47a281e4476",
   "metadata": {},
   "source": [
    "| Team Member | Operating System | RAM | Processor | Is SSD | Time taken |\n",
    "|:-----------:|:----------------:|:---:|:---------:|:------:|:----------:|\n",
    "| Ruben       |       MacOS      |  8  |    M1     |   Yes  |            |\n",
    "| Jacqueline  |       MacOS      |  8  |IntelCorei5|   Yes  |            |\n",
    "| Kyle        |                  |     |           |        |            |\n",
    "| Sanchit     |       MacOS      |  8  |    M1     |   Yes  |  1min 2s   |"
   ]
  },
  {
   "cell_type": "markdown",
   "id": "f9bf21e4-612d-46c9-b38f-c0c95ee771b6",
   "metadata": {},
   "source": [
    "### The first method we will use to reduce the runtime will be to change the datatype. We will convert the numerical columns from float64 to float32"
   ]
  },
  {
   "cell_type": "code",
   "execution_count": 15,
   "id": "06d5bf4b-035d-44d2-85b1-53edd8453fea",
   "metadata": {},
   "outputs": [
    {
     "name": "stdout",
     "output_type": "stream",
     "text": [
      "<class 'pandas.core.frame.DataFrame'>\n",
      "RangeIndex: 62467843 entries, 0 to 62467842\n",
      "Data columns (total 8 columns):\n",
      " #   Column         Dtype  \n",
      "---  ------         -----  \n",
      " 0   Unnamed: 0     int64  \n",
      " 1   time           object \n",
      " 2   lat_min        float32\n",
      " 3   lat_max        float32\n",
      " 4   lon_min        float32\n",
      " 5   lon_max        float32\n",
      " 6   rain (mm/day)  float32\n",
      " 7   model          object \n",
      "dtypes: float32(5), int64(1), object(2)\n",
      "memory usage: 2.6+ GB\n",
      "CPU times: user 45.6 s, sys: 14.3 s, total: 59.9 s\n",
      "Wall time: 1min 12s\n"
     ]
    }
   ],
   "source": [
    "%%time\n",
    "combined_df_f32 = pd.read_csv(\"combined_data.csv\", dtype={'lat_min': 'float32', 'lat_max': 'float32', 'lon_min': 'float32', 'lon_max': 'float32', 'rain (mm/day)': 'float32'})\n",
    "combined_df_f32.info()"
   ]
  },
  {
   "cell_type": "markdown",
   "id": "24036411-215a-4a5b-ac81-98fb58f2554f",
   "metadata": {},
   "source": [
    "| Team Member | Operating System | RAM | Processor | Is SSD | Time taken |\n",
    "|:-----------:|:----------------:|:---:|:---------:|:------:|:----------:|\n",
    "| Ruben       |       MacOS      |  8  |    M1     |   Yes  |            |\n",
    "| Jacqueline  |       MacOS      |  8  |IntelCorei5|   Yes  |            |\n",
    "| Kyle        |                  |     |           |        |            |\n",
    "| Sanchit     |       MacOS      |  8  |    M1     |   Yes  |  1min      |"
   ]
  },
  {
   "cell_type": "markdown",
   "id": "a6d6d43a-7cc6-4058-8736-9da3c9e5fbdb",
   "metadata": {},
   "source": [
    "The total time did not reduce considerably. \\\n",
    "But the memory usage reduced from 3.7+ GB to 2.6+ GB. "
   ]
  },
  {
   "cell_type": "markdown",
   "id": "6ab10842-c3f2-4ce2-8876-8a8b48c14619",
   "metadata": {},
   "source": [
    "### We will now try to load individual columns and perform EDA on them"
   ]
  },
  {
   "cell_type": "code",
   "execution_count": 19,
   "id": "a58633b7-2892-4b51-bb89-8213637867f8",
   "metadata": {},
   "outputs": [
    {
     "name": "stdout",
     "output_type": "stream",
     "text": [
      "lat_max   \n",
      "-31.099476    3035329\n",
      "-32.041885    3035329\n",
      "-34.869110    3035329\n",
      "-32.984293    3035329\n",
      "-30.000000    2529870\n",
      "               ...   \n",
      "-33.487232     183960\n",
      "-33.490981     183960\n",
      "-30.696652     183960\n",
      "-30.700015     183960\n",
      "-27.906064     183960\n",
      "Length: 87, dtype: int64\n",
      "CPU times: user 23.3 s, sys: 2.08 s, total: 25.4 s\n",
      "Wall time: 26.4 s\n"
     ]
    }
   ],
   "source": [
    "%%time\n",
    "column = ['lat_max']\n",
    "combined_df_value = pd.read_csv(\"combined_data.csv\", usecols=column)\n",
    "print(combined_df_value.value_counts())"
   ]
  },
  {
   "cell_type": "markdown",
   "id": "305f4ddc-93aa-44e4-bf93-a63948c88f13",
   "metadata": {},
   "source": [
    ".value_counts().compute()"
   ]
  },
  {
   "cell_type": "markdown",
   "id": "3c9dd9cf-7cab-4ec5-9e84-b6592cee4733",
   "metadata": {},
   "source": [
    "| Team Member | Operating System | RAM | Processor | Is SSD | Time taken |\n",
    "|:-----------:|:----------------:|:---:|:---------:|:------:|:----------:|\n",
    "| Ruben       |       MacOS      |  8  |    M1     |   Yes  |            |\n",
    "| Jacqueline  |       MacOS      |  8  |IntelCorei5|   Yes  |            |\n",
    "| Kyle        |                  |     |           |        |            |\n",
    "| Sanchit     |       MacOS      |  8  |    M1     |   Yes  |  25s       |"
   ]
  },
  {
   "cell_type": "markdown",
   "id": "06437ed8-f3e4-4bd5-b83b-2e79cad316be",
   "metadata": {},
   "source": [
    "It took only about 25 seconds. But this is not a feasible solution since its not scalable. Performing this task for all columns in loops will only add to the total time."
   ]
  },
  {
   "cell_type": "code",
   "execution_count": 21,
   "id": "d6273dc8-288a-429e-b4d4-5821455240d2",
   "metadata": {},
   "outputs": [
    {
     "name": "stdout",
     "output_type": "stream",
     "text": [
      "CPU times: user 7.06 s, sys: 3.22 s, total: 10.3 s\n",
      "Wall time: 14.3 s\n"
     ]
    },
    {
     "data": {
      "text/html": [
       "<div>\n",
       "<style scoped>\n",
       "    .dataframe tbody tr th:only-of-type {\n",
       "        vertical-align: middle;\n",
       "    }\n",
       "\n",
       "    .dataframe tbody tr th {\n",
       "        vertical-align: top;\n",
       "    }\n",
       "\n",
       "    .dataframe thead th {\n",
       "        text-align: right;\n",
       "    }\n",
       "</style>\n",
       "<table border=\"1\" class=\"dataframe\">\n",
       "  <thead>\n",
       "    <tr style=\"text-align: right;\">\n",
       "      <th></th>\n",
       "      <th>lat_min</th>\n",
       "      <th>lat_max</th>\n",
       "      <th>lon_min</th>\n",
       "      <th>lon_max</th>\n",
       "      <th>rain (mm/day)</th>\n",
       "    </tr>\n",
       "  </thead>\n",
       "  <tbody>\n",
       "    <tr>\n",
       "      <th>count</th>\n",
       "      <td>5.924854e+07</td>\n",
       "      <td>6.246784e+07</td>\n",
       "      <td>5.924854e+07</td>\n",
       "      <td>6.246784e+07</td>\n",
       "      <td>5.924854e+07</td>\n",
       "    </tr>\n",
       "    <tr>\n",
       "      <th>mean</th>\n",
       "      <td>-3.310482e+01</td>\n",
       "      <td>-3.197757e+01</td>\n",
       "      <td>1.469059e+02</td>\n",
       "      <td>1.482150e+02</td>\n",
       "      <td>1.901170e+00</td>\n",
       "    </tr>\n",
       "    <tr>\n",
       "      <th>std</th>\n",
       "      <td>1.963549e+00</td>\n",
       "      <td>1.992067e+00</td>\n",
       "      <td>3.793784e+00</td>\n",
       "      <td>3.809994e+00</td>\n",
       "      <td>5.585735e+00</td>\n",
       "    </tr>\n",
       "    <tr>\n",
       "      <th>min</th>\n",
       "      <td>-3.646739e+01</td>\n",
       "      <td>-3.600000e+01</td>\n",
       "      <td>1.406250e+02</td>\n",
       "      <td>1.412500e+02</td>\n",
       "      <td>-3.807373e-12</td>\n",
       "    </tr>\n",
       "    <tr>\n",
       "      <th>25%</th>\n",
       "      <td>-3.486911e+01</td>\n",
       "      <td>-3.366221e+01</td>\n",
       "      <td>1.434375e+02</td>\n",
       "      <td>1.450000e+02</td>\n",
       "      <td>3.838413e-06</td>\n",
       "    </tr>\n",
       "    <tr>\n",
       "      <th>50%</th>\n",
       "      <td>-3.300000e+01</td>\n",
       "      <td>-3.204188e+01</td>\n",
       "      <td>1.468750e+02</td>\n",
       "      <td>1.481250e+02</td>\n",
       "      <td>6.154947e-02</td>\n",
       "    </tr>\n",
       "    <tr>\n",
       "      <th>75%</th>\n",
       "      <td>-3.140170e+01</td>\n",
       "      <td>-3.015707e+01</td>\n",
       "      <td>1.501875e+02</td>\n",
       "      <td>1.513125e+02</td>\n",
       "      <td>1.020918e+00</td>\n",
       "    </tr>\n",
       "    <tr>\n",
       "      <th>max</th>\n",
       "      <td>-2.990000e+01</td>\n",
       "      <td>-2.790606e+01</td>\n",
       "      <td>1.537500e+02</td>\n",
       "      <td>1.556250e+02</td>\n",
       "      <td>4.329395e+02</td>\n",
       "    </tr>\n",
       "  </tbody>\n",
       "</table>\n",
       "</div>"
      ],
      "text/plain": [
       "            lat_min       lat_max       lon_min       lon_max  rain (mm/day)\n",
       "count  5.924854e+07  6.246784e+07  5.924854e+07  6.246784e+07   5.924854e+07\n",
       "mean  -3.310482e+01 -3.197757e+01  1.469059e+02  1.482150e+02   1.901170e+00\n",
       "std    1.963549e+00  1.992067e+00  3.793784e+00  3.809994e+00   5.585735e+00\n",
       "min   -3.646739e+01 -3.600000e+01  1.406250e+02  1.412500e+02  -3.807373e-12\n",
       "25%   -3.486911e+01 -3.366221e+01  1.434375e+02  1.450000e+02   3.838413e-06\n",
       "50%   -3.300000e+01 -3.204188e+01  1.468750e+02  1.481250e+02   6.154947e-02\n",
       "75%   -3.140170e+01 -3.015707e+01  1.501875e+02  1.513125e+02   1.020918e+00\n",
       "max   -2.990000e+01 -2.790606e+01  1.537500e+02  1.556250e+02   4.329395e+02"
      ]
     },
     "execution_count": 21,
     "metadata": {},
     "output_type": "execute_result"
    }
   ],
   "source": [
    "%%time\n",
    "combined_df.describe()"
   ]
  },
  {
   "cell_type": "markdown",
   "id": "aa133870-ae47-4485-97dc-36f0ab91ea25",
   "metadata": {},
   "source": [
    "| Team Member | Operating System | RAM | Processor | Is SSD | Time taken |\n",
    "|:-----------:|:----------------:|:---:|:---------:|:------:|:----------:|\n",
    "| Ruben       |       MacOS      |  8  |    M1     |   Yes  |            |\n",
    "| Jacqueline  |       MacOS      |  8  |IntelCorei5|   Yes  |            |\n",
    "| Kyle        |                  |     |           |        |            |\n",
    "| Sanchit     |       MacOS      |  8  |    M1     |   Yes  |  10s       |"
   ]
  }
 ],
 "metadata": {
  "kernelspec": {
   "display_name": "Python 3 (ipykernel)",
   "language": "python",
   "name": "python3"
  },
  "language_info": {
   "codemirror_mode": {
    "name": "ipython",
    "version": 3
   },
   "file_extension": ".py",
   "mimetype": "text/x-python",
   "name": "python",
   "nbconvert_exporter": "python",
   "pygments_lexer": "ipython3",
   "version": "3.9.5"
  }
 },
 "nbformat": 4,
 "nbformat_minor": 5
}
